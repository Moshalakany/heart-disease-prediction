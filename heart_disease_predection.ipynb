{
  "cells": [
    {
      "cell_type": "markdown",
      "metadata": {
        "id": "view-in-github",
        "colab_type": "text"
      },
      "source": [
        "<a href=\"https://colab.research.google.com/github/Moshalakany/heart-disease-prediction/blob/main/heart_disease_predection.ipynb\" target=\"_parent\"><img src=\"https://colab.research.google.com/assets/colab-badge.svg\" alt=\"Open In Colab\"/></a>"
      ]
    },
    {
      "cell_type": "code",
      "execution_count": 106,
      "id": "86385452",
      "metadata": {
        "id": "86385452"
      },
      "outputs": [],
      "source": [
        "import numpy as np\n",
        "import matplotlib.pyplot as plt\n",
        "import pandas as pd\n",
        "import seaborn as sns\n",
        "import sklearn as sk\n",
        "from sklearn.metrics import confusion_matrix, mean_squared_error,accuracy_score,classification_report,precision_recall_curve,PrecisionRecallDisplay\n",
        "from sklearn.metrics import confusion_matrix, ConfusionMatrixDisplay\n",
        "from sklearn.ensemble import RandomForestClassifier"
      ]
    },
    {
      "cell_type": "code",
      "execution_count": 107,
      "id": "e64a15eb",
      "metadata": {
        "id": "e64a15eb"
      },
      "outputs": [],
      "source": [
        "data=pd.read_csv(r\"/content/drive/MyDrive/data/Heart_Disease.csv\")"
      ]
    },
    {
      "cell_type": "code",
      "execution_count": 108,
      "id": "a8150757",
      "metadata": {
        "id": "a8150757",
        "colab": {
          "base_uri": "https://localhost:8080/",
          "height": 399
        },
        "outputId": "7c3c6fb7-a252-4987-a0fa-467c163487f1"
      },
      "outputs": [
        {
          "output_type": "execute_result",
          "data": {
            "text/plain": [
              "               id         Age  Chest pain type          BP  Cholesterol  \\\n",
              "count  270.000000  264.000000       270.000000  270.000000   270.000000   \n",
              "mean   135.500000   54.424242         3.174074  131.344444   249.659259   \n",
              "std     78.086491    9.183488         0.950090   17.861608    51.686237   \n",
              "min      1.000000   29.000000         1.000000   94.000000   126.000000   \n",
              "25%     68.250000   47.000000         3.000000  120.000000   213.000000   \n",
              "50%    135.500000   55.000000         3.000000  130.000000   245.000000   \n",
              "75%    202.750000   61.000000         4.000000  140.000000   280.000000   \n",
              "max    270.000000   77.000000         4.000000  200.000000   564.000000   \n",
              "\n",
              "       FBS over 120  EKG results      Max HR  Exercise angina  ST depression  \\\n",
              "count    270.000000   270.000000  270.000000       270.000000      270.00000   \n",
              "mean       0.148148     1.022222  149.677778         0.329630        1.05000   \n",
              "std        0.355906     0.997891   23.165717         0.470952        1.14521   \n",
              "min        0.000000     0.000000   71.000000         0.000000        0.00000   \n",
              "25%        0.000000     0.000000  133.000000         0.000000        0.00000   \n",
              "50%        0.000000     2.000000  153.500000         0.000000        0.80000   \n",
              "75%        0.000000     2.000000  166.000000         1.000000        1.60000   \n",
              "max        1.000000     2.000000  202.000000         1.000000        6.20000   \n",
              "\n",
              "       Slope of ST  Number of vessels fluro    Thallium  \n",
              "count   270.000000               270.000000  270.000000  \n",
              "mean      1.585185                 0.670370    4.696296  \n",
              "std       0.614390                 0.943896    1.940659  \n",
              "min       1.000000                 0.000000    3.000000  \n",
              "25%       1.000000                 0.000000    3.000000  \n",
              "50%       2.000000                 0.000000    3.000000  \n",
              "75%       2.000000                 1.000000    7.000000  \n",
              "max       3.000000                 3.000000    7.000000  "
            ],
            "text/html": [
              "\n",
              "  <div id=\"df-f819ac76-0a41-40d0-bb20-df8426dfe3c6\">\n",
              "    <div class=\"colab-df-container\">\n",
              "      <div>\n",
              "<style scoped>\n",
              "    .dataframe tbody tr th:only-of-type {\n",
              "        vertical-align: middle;\n",
              "    }\n",
              "\n",
              "    .dataframe tbody tr th {\n",
              "        vertical-align: top;\n",
              "    }\n",
              "\n",
              "    .dataframe thead th {\n",
              "        text-align: right;\n",
              "    }\n",
              "</style>\n",
              "<table border=\"1\" class=\"dataframe\">\n",
              "  <thead>\n",
              "    <tr style=\"text-align: right;\">\n",
              "      <th></th>\n",
              "      <th>id</th>\n",
              "      <th>Age</th>\n",
              "      <th>Chest pain type</th>\n",
              "      <th>BP</th>\n",
              "      <th>Cholesterol</th>\n",
              "      <th>FBS over 120</th>\n",
              "      <th>EKG results</th>\n",
              "      <th>Max HR</th>\n",
              "      <th>Exercise angina</th>\n",
              "      <th>ST depression</th>\n",
              "      <th>Slope of ST</th>\n",
              "      <th>Number of vessels fluro</th>\n",
              "      <th>Thallium</th>\n",
              "    </tr>\n",
              "  </thead>\n",
              "  <tbody>\n",
              "    <tr>\n",
              "      <th>count</th>\n",
              "      <td>270.000000</td>\n",
              "      <td>264.000000</td>\n",
              "      <td>270.000000</td>\n",
              "      <td>270.000000</td>\n",
              "      <td>270.000000</td>\n",
              "      <td>270.000000</td>\n",
              "      <td>270.000000</td>\n",
              "      <td>270.000000</td>\n",
              "      <td>270.000000</td>\n",
              "      <td>270.00000</td>\n",
              "      <td>270.000000</td>\n",
              "      <td>270.000000</td>\n",
              "      <td>270.000000</td>\n",
              "    </tr>\n",
              "    <tr>\n",
              "      <th>mean</th>\n",
              "      <td>135.500000</td>\n",
              "      <td>54.424242</td>\n",
              "      <td>3.174074</td>\n",
              "      <td>131.344444</td>\n",
              "      <td>249.659259</td>\n",
              "      <td>0.148148</td>\n",
              "      <td>1.022222</td>\n",
              "      <td>149.677778</td>\n",
              "      <td>0.329630</td>\n",
              "      <td>1.05000</td>\n",
              "      <td>1.585185</td>\n",
              "      <td>0.670370</td>\n",
              "      <td>4.696296</td>\n",
              "    </tr>\n",
              "    <tr>\n",
              "      <th>std</th>\n",
              "      <td>78.086491</td>\n",
              "      <td>9.183488</td>\n",
              "      <td>0.950090</td>\n",
              "      <td>17.861608</td>\n",
              "      <td>51.686237</td>\n",
              "      <td>0.355906</td>\n",
              "      <td>0.997891</td>\n",
              "      <td>23.165717</td>\n",
              "      <td>0.470952</td>\n",
              "      <td>1.14521</td>\n",
              "      <td>0.614390</td>\n",
              "      <td>0.943896</td>\n",
              "      <td>1.940659</td>\n",
              "    </tr>\n",
              "    <tr>\n",
              "      <th>min</th>\n",
              "      <td>1.000000</td>\n",
              "      <td>29.000000</td>\n",
              "      <td>1.000000</td>\n",
              "      <td>94.000000</td>\n",
              "      <td>126.000000</td>\n",
              "      <td>0.000000</td>\n",
              "      <td>0.000000</td>\n",
              "      <td>71.000000</td>\n",
              "      <td>0.000000</td>\n",
              "      <td>0.00000</td>\n",
              "      <td>1.000000</td>\n",
              "      <td>0.000000</td>\n",
              "      <td>3.000000</td>\n",
              "    </tr>\n",
              "    <tr>\n",
              "      <th>25%</th>\n",
              "      <td>68.250000</td>\n",
              "      <td>47.000000</td>\n",
              "      <td>3.000000</td>\n",
              "      <td>120.000000</td>\n",
              "      <td>213.000000</td>\n",
              "      <td>0.000000</td>\n",
              "      <td>0.000000</td>\n",
              "      <td>133.000000</td>\n",
              "      <td>0.000000</td>\n",
              "      <td>0.00000</td>\n",
              "      <td>1.000000</td>\n",
              "      <td>0.000000</td>\n",
              "      <td>3.000000</td>\n",
              "    </tr>\n",
              "    <tr>\n",
              "      <th>50%</th>\n",
              "      <td>135.500000</td>\n",
              "      <td>55.000000</td>\n",
              "      <td>3.000000</td>\n",
              "      <td>130.000000</td>\n",
              "      <td>245.000000</td>\n",
              "      <td>0.000000</td>\n",
              "      <td>2.000000</td>\n",
              "      <td>153.500000</td>\n",
              "      <td>0.000000</td>\n",
              "      <td>0.80000</td>\n",
              "      <td>2.000000</td>\n",
              "      <td>0.000000</td>\n",
              "      <td>3.000000</td>\n",
              "    </tr>\n",
              "    <tr>\n",
              "      <th>75%</th>\n",
              "      <td>202.750000</td>\n",
              "      <td>61.000000</td>\n",
              "      <td>4.000000</td>\n",
              "      <td>140.000000</td>\n",
              "      <td>280.000000</td>\n",
              "      <td>0.000000</td>\n",
              "      <td>2.000000</td>\n",
              "      <td>166.000000</td>\n",
              "      <td>1.000000</td>\n",
              "      <td>1.60000</td>\n",
              "      <td>2.000000</td>\n",
              "      <td>1.000000</td>\n",
              "      <td>7.000000</td>\n",
              "    </tr>\n",
              "    <tr>\n",
              "      <th>max</th>\n",
              "      <td>270.000000</td>\n",
              "      <td>77.000000</td>\n",
              "      <td>4.000000</td>\n",
              "      <td>200.000000</td>\n",
              "      <td>564.000000</td>\n",
              "      <td>1.000000</td>\n",
              "      <td>2.000000</td>\n",
              "      <td>202.000000</td>\n",
              "      <td>1.000000</td>\n",
              "      <td>6.20000</td>\n",
              "      <td>3.000000</td>\n",
              "      <td>3.000000</td>\n",
              "      <td>7.000000</td>\n",
              "    </tr>\n",
              "  </tbody>\n",
              "</table>\n",
              "</div>\n",
              "      <button class=\"colab-df-convert\" onclick=\"convertToInteractive('df-f819ac76-0a41-40d0-bb20-df8426dfe3c6')\"\n",
              "              title=\"Convert this dataframe to an interactive table.\"\n",
              "              style=\"display:none;\">\n",
              "        \n",
              "  <svg xmlns=\"http://www.w3.org/2000/svg\" height=\"24px\"viewBox=\"0 0 24 24\"\n",
              "       width=\"24px\">\n",
              "    <path d=\"M0 0h24v24H0V0z\" fill=\"none\"/>\n",
              "    <path d=\"M18.56 5.44l.94 2.06.94-2.06 2.06-.94-2.06-.94-.94-2.06-.94 2.06-2.06.94zm-11 1L8.5 8.5l.94-2.06 2.06-.94-2.06-.94L8.5 2.5l-.94 2.06-2.06.94zm10 10l.94 2.06.94-2.06 2.06-.94-2.06-.94-.94-2.06-.94 2.06-2.06.94z\"/><path d=\"M17.41 7.96l-1.37-1.37c-.4-.4-.92-.59-1.43-.59-.52 0-1.04.2-1.43.59L10.3 9.45l-7.72 7.72c-.78.78-.78 2.05 0 2.83L4 21.41c.39.39.9.59 1.41.59.51 0 1.02-.2 1.41-.59l7.78-7.78 2.81-2.81c.8-.78.8-2.07 0-2.86zM5.41 20L4 18.59l7.72-7.72 1.47 1.35L5.41 20z\"/>\n",
              "  </svg>\n",
              "      </button>\n",
              "      \n",
              "  <style>\n",
              "    .colab-df-container {\n",
              "      display:flex;\n",
              "      flex-wrap:wrap;\n",
              "      gap: 12px;\n",
              "    }\n",
              "\n",
              "    .colab-df-convert {\n",
              "      background-color: #E8F0FE;\n",
              "      border: none;\n",
              "      border-radius: 50%;\n",
              "      cursor: pointer;\n",
              "      display: none;\n",
              "      fill: #1967D2;\n",
              "      height: 32px;\n",
              "      padding: 0 0 0 0;\n",
              "      width: 32px;\n",
              "    }\n",
              "\n",
              "    .colab-df-convert:hover {\n",
              "      background-color: #E2EBFA;\n",
              "      box-shadow: 0px 1px 2px rgba(60, 64, 67, 0.3), 0px 1px 3px 1px rgba(60, 64, 67, 0.15);\n",
              "      fill: #174EA6;\n",
              "    }\n",
              "\n",
              "    [theme=dark] .colab-df-convert {\n",
              "      background-color: #3B4455;\n",
              "      fill: #D2E3FC;\n",
              "    }\n",
              "\n",
              "    [theme=dark] .colab-df-convert:hover {\n",
              "      background-color: #434B5C;\n",
              "      box-shadow: 0px 1px 3px 1px rgba(0, 0, 0, 0.15);\n",
              "      filter: drop-shadow(0px 1px 2px rgba(0, 0, 0, 0.3));\n",
              "      fill: #FFFFFF;\n",
              "    }\n",
              "  </style>\n",
              "\n",
              "      <script>\n",
              "        const buttonEl =\n",
              "          document.querySelector('#df-f819ac76-0a41-40d0-bb20-df8426dfe3c6 button.colab-df-convert');\n",
              "        buttonEl.style.display =\n",
              "          google.colab.kernel.accessAllowed ? 'block' : 'none';\n",
              "\n",
              "        async function convertToInteractive(key) {\n",
              "          const element = document.querySelector('#df-f819ac76-0a41-40d0-bb20-df8426dfe3c6');\n",
              "          const dataTable =\n",
              "            await google.colab.kernel.invokeFunction('convertToInteractive',\n",
              "                                                     [key], {});\n",
              "          if (!dataTable) return;\n",
              "\n",
              "          const docLinkHtml = 'Like what you see? Visit the ' +\n",
              "            '<a target=\"_blank\" href=https://colab.research.google.com/notebooks/data_table.ipynb>data table notebook</a>'\n",
              "            + ' to learn more about interactive tables.';\n",
              "          element.innerHTML = '';\n",
              "          dataTable['output_type'] = 'display_data';\n",
              "          await google.colab.output.renderOutput(dataTable, element);\n",
              "          const docLink = document.createElement('div');\n",
              "          docLink.innerHTML = docLinkHtml;\n",
              "          element.appendChild(docLink);\n",
              "        }\n",
              "      </script>\n",
              "    </div>\n",
              "  </div>\n",
              "  "
            ]
          },
          "metadata": {},
          "execution_count": 108
        }
      ],
      "source": [
        "data.describe()"
      ]
    },
    {
      "cell_type": "code",
      "execution_count": 109,
      "id": "ee22e236",
      "metadata": {
        "id": "ee22e236",
        "colab": {
          "base_uri": "https://localhost:8080/"
        },
        "outputId": "0015a3c3-5a57-47de-de8c-59b3462130b8"
      },
      "outputs": [
        {
          "output_type": "stream",
          "name": "stdout",
          "text": [
            "      id   Age  Gender  Chest pain type   BP  Cholesterol  FBS over 120  \\\n",
            "0      1  70.0  Female                4  130          322             0   \n",
            "1      2  67.0    Male                3  115          564             0   \n",
            "2      3  57.0  Female                2  124          261             0   \n",
            "3      4  64.0  Female                4  128          263             0   \n",
            "4      5  74.0    Male                2  120          269             0   \n",
            "..   ...   ...     ...              ...  ...          ...           ...   \n",
            "265  266  52.0  Female                3  172          199             1   \n",
            "266  267  44.0  Female                2  120          263             0   \n",
            "267  268  56.0    Male                2  140          294             0   \n",
            "268  269  57.0  Female                4  140          192             0   \n",
            "269  270  67.0  Female                4  160          286             0   \n",
            "\n",
            "     EKG results  Max HR  Exercise angina  ST depression  Slope of ST  \\\n",
            "0              2     109                0            2.4            2   \n",
            "1              2     160                0            1.6            2   \n",
            "2              0     141                0            0.3            1   \n",
            "3              0     105                1            0.2            2   \n",
            "4              2     121                1            0.2            1   \n",
            "..           ...     ...              ...            ...          ...   \n",
            "265            0     162                0            0.5            1   \n",
            "266            0     173                0            0.0            1   \n",
            "267            2     153                0            1.3            2   \n",
            "268            0     148                0            0.4            2   \n",
            "269            2     108                1            1.5            2   \n",
            "\n",
            "     Number of vessels fluro  Thallium      work_type   smoking_status  \\\n",
            "0                          3         3        Private  formerly smoked   \n",
            "1                          0         7  Self-employed     never smoked   \n",
            "2                          0         7        Private     never smoked   \n",
            "3                          1         7        Private           smokes   \n",
            "4                          1         3  Self-employed     never smoked   \n",
            "..                       ...       ...            ...              ...   \n",
            "265                        0         7            NaN           smokes   \n",
            "266                        0         7        Private     never smoked   \n",
            "267                        0         3       Govt_job           smokes   \n",
            "268                        0         6  Self-employed           smokes   \n",
            "269                        3         3        Private          Unknown   \n",
            "\n",
            "    Heart Disease  \n",
            "0             Yes  \n",
            "1              No  \n",
            "2             Yes  \n",
            "3              No  \n",
            "4              No  \n",
            "..            ...  \n",
            "265            No  \n",
            "266            No  \n",
            "267            No  \n",
            "268            No  \n",
            "269           Yes  \n",
            "\n",
            "[270 rows x 17 columns]\n"
          ]
        }
      ],
      "source": [
        "print(data)"
      ]
    },
    {
      "cell_type": "code",
      "execution_count": 109,
      "id": "224c209b",
      "metadata": {
        "id": "224c209b"
      },
      "outputs": [],
      "source": []
    },
    {
      "cell_type": "code",
      "execution_count": 110,
      "id": "30ab862e",
      "metadata": {
        "id": "30ab862e"
      },
      "outputs": [],
      "source": [
        "data['Age'].fillna(data['Age'].mean(),inplace=True)\n",
        "data['Gender'].fillna(data['Gender'].mode(),inplace=True)\n",
        "data['work_type'].fillna(data['work_type'].mode(),inplace=True)\n",
        "data['smoking_status'].fillna(data['smoking_status'].mode(),inplace=True)"
      ]
    },
    {
      "cell_type": "code",
      "execution_count": 111,
      "id": "ed7380d5",
      "metadata": {
        "id": "ed7380d5"
      },
      "outputs": [],
      "source": [
        "#to replac unknown values in smoking_status column with the mod value\n",
        "data.replace(to_replace=\"Unknown\",value='never smoked',inplace=True)\n",
        "  "
      ]
    },
    {
      "cell_type": "code",
      "execution_count": 112,
      "id": "691461cb",
      "metadata": {
        "id": "691461cb",
        "colab": {
          "base_uri": "https://localhost:8080/"
        },
        "outputId": "c3ff346d-780f-4e6d-898e-c057fb166c1a"
      },
      "outputs": [
        {
          "output_type": "stream",
          "name": "stdout",
          "text": [
            "0    never smoked\n",
            "Name: smoking_status, dtype: object\n"
          ]
        }
      ],
      "source": [
        "print(data['smoking_status'].mode())"
      ]
    },
    {
      "cell_type": "code",
      "execution_count": 113,
      "id": "276d9247",
      "metadata": {
        "id": "276d9247"
      },
      "outputs": [],
      "source": [
        "dummy_cols=['work_type','smoking_status','Gender' ]\n",
        "non_dummy_cols=list(set(data.columns)-set(dummy_cols))"
      ]
    },
    {
      "cell_type": "code",
      "execution_count": 114,
      "id": "d3f76c41",
      "metadata": {
        "id": "d3f76c41",
        "colab": {
          "base_uri": "https://localhost:8080/"
        },
        "outputId": "50da540d-f47f-4340-df0f-847555bb6c5b"
      },
      "outputs": [
        {
          "output_type": "stream",
          "name": "stdout",
          "text": [
            "      id   Age  Chest pain type   BP  Cholesterol  FBS over 120  EKG results  \\\n",
            "0      1  70.0                4  130          322             0            2   \n",
            "1      2  67.0                3  115          564             0            2   \n",
            "2      3  57.0                2  124          261             0            0   \n",
            "3      4  64.0                4  128          263             0            0   \n",
            "4      5  74.0                2  120          269             0            2   \n",
            "..   ...   ...              ...  ...          ...           ...          ...   \n",
            "265  266  52.0                3  172          199             1            0   \n",
            "266  267  44.0                2  120          263             0            0   \n",
            "267  268  56.0                2  140          294             0            2   \n",
            "268  269  57.0                4  140          192             0            0   \n",
            "269  270  67.0                4  160          286             0            2   \n",
            "\n",
            "     Max HR  Exercise angina  ST depression  ...  work_type_Govt_job  \\\n",
            "0       109                0            2.4  ...                   0   \n",
            "1       160                0            1.6  ...                   0   \n",
            "2       141                0            0.3  ...                   0   \n",
            "3       105                1            0.2  ...                   0   \n",
            "4       121                1            0.2  ...                   0   \n",
            "..      ...              ...            ...  ...                 ...   \n",
            "265     162                0            0.5  ...                   0   \n",
            "266     173                0            0.0  ...                   0   \n",
            "267     153                0            1.3  ...                   1   \n",
            "268     148                0            0.4  ...                   0   \n",
            "269     108                1            1.5  ...                   0   \n",
            "\n",
            "     work_type_Never_worked  work_type_Private  work_type_Self-employed  \\\n",
            "0                         0                  1                        0   \n",
            "1                         0                  0                        1   \n",
            "2                         0                  1                        0   \n",
            "3                         0                  1                        0   \n",
            "4                         0                  0                        1   \n",
            "..                      ...                ...                      ...   \n",
            "265                       0                  0                        0   \n",
            "266                       0                  1                        0   \n",
            "267                       0                  0                        0   \n",
            "268                       0                  0                        1   \n",
            "269                       0                  1                        0   \n",
            "\n",
            "     work_type_children  smoking_status_formerly smoked  \\\n",
            "0                     0                               1   \n",
            "1                     0                               0   \n",
            "2                     0                               0   \n",
            "3                     0                               0   \n",
            "4                     0                               0   \n",
            "..                  ...                             ...   \n",
            "265                   0                               0   \n",
            "266                   0                               0   \n",
            "267                   0                               0   \n",
            "268                   0                               0   \n",
            "269                   0                               0   \n",
            "\n",
            "     smoking_status_never smoked  smoking_status_smokes  Gender_Female  \\\n",
            "0                              0                      0              1   \n",
            "1                              1                      0              0   \n",
            "2                              1                      0              1   \n",
            "3                              0                      1              1   \n",
            "4                              1                      0              0   \n",
            "..                           ...                    ...            ...   \n",
            "265                            0                      1              1   \n",
            "266                            1                      0              1   \n",
            "267                            0                      1              0   \n",
            "268                            0                      1              1   \n",
            "269                            1                      0              1   \n",
            "\n",
            "     Gender_Male  \n",
            "0              0  \n",
            "1              1  \n",
            "2              0  \n",
            "3              0  \n",
            "4              1  \n",
            "..           ...  \n",
            "265            0  \n",
            "266            0  \n",
            "267            1  \n",
            "268            0  \n",
            "269            0  \n",
            "\n",
            "[270 rows x 24 columns]\n"
          ]
        }
      ],
      "source": [
        "data=pd.get_dummies(data,columns=dummy_cols)\n",
        "data['Heart Disease']=data['Heart Disease'].replace(\"Yes\",1)\n",
        "data['Heart Disease']=data['Heart Disease'].replace(\"No\",0)\n",
        "     \n",
        "print(data)"
      ]
    },
    {
      "cell_type": "code",
      "execution_count": 115,
      "id": "e7086368",
      "metadata": {
        "id": "e7086368",
        "colab": {
          "base_uri": "https://localhost:8080/"
        },
        "outputId": "e596cee7-3e2b-4e76-8737-b247dbb4cc5f"
      },
      "outputs": [
        {
          "output_type": "stream",
          "name": "stdout",
          "text": [
            "id                                0\n",
            "Age                               0\n",
            "Chest pain type                   0\n",
            "BP                                0\n",
            "Cholesterol                       0\n",
            "FBS over 120                      0\n",
            "EKG results                       0\n",
            "Max HR                            0\n",
            "Exercise angina                   0\n",
            "ST depression                     0\n",
            "Slope of ST                       0\n",
            "Number of vessels fluro           0\n",
            "Thallium                          0\n",
            "Heart Disease                     0\n",
            "work_type_Govt_job                0\n",
            "work_type_Never_worked            0\n",
            "work_type_Private                 0\n",
            "work_type_Self-employed           0\n",
            "work_type_children                0\n",
            "smoking_status_formerly smoked    0\n",
            "smoking_status_never smoked       0\n",
            "smoking_status_smokes             0\n",
            "Gender_Female                     0\n",
            "Gender_Male                       0\n",
            "dtype: int64\n"
          ]
        }
      ],
      "source": [
        "print(data.isnull().sum()) "
      ]
    },
    {
      "cell_type": "code",
      "execution_count": 116,
      "id": "ee31aa35",
      "metadata": {
        "id": "ee31aa35",
        "colab": {
          "base_uri": "https://localhost:8080/"
        },
        "outputId": "3d9817c5-90e9-4e1a-e883-20cdfc7b6a29"
      },
      "outputs": [
        {
          "output_type": "execute_result",
          "data": {
            "text/plain": [
              "0      False\n",
              "1      False\n",
              "2      False\n",
              "3      False\n",
              "4      False\n",
              "       ...  \n",
              "265    False\n",
              "266    False\n",
              "267    False\n",
              "268    False\n",
              "269    False\n",
              "Length: 270, dtype: bool"
            ]
          },
          "metadata": {},
          "execution_count": 116
        }
      ],
      "source": [
        "data.duplicated() "
      ]
    },
    {
      "cell_type": "code",
      "execution_count": 117,
      "id": "7c5a8318",
      "metadata": {
        "id": "7c5a8318",
        "colab": {
          "base_uri": "https://localhost:8080/",
          "height": 334
        },
        "outputId": "df001f5b-19e9-4114-f7d4-f47a0973a637"
      },
      "outputs": [
        {
          "output_type": "execute_result",
          "data": {
            "text/plain": [
              "      id   Age  Chest pain type   BP  Cholesterol  FBS over 120  EKG results  \\\n",
              "1      2  67.0                3  115          564             0            2   \n",
              "9     10  63.0                4  150          407             0            2   \n",
              "52    53  65.0                3  140          417             1            2   \n",
              "181  182  56.0                4  134          409             0            2   \n",
              "188  189  62.0                4  140          394             0            2   \n",
              "\n",
              "     Max HR  Exercise angina  ST depression  ...  work_type_Govt_job  \\\n",
              "1       160                0            1.6  ...                   0   \n",
              "9       154                0            4.0  ...                   0   \n",
              "52      157                0            0.8  ...                   0   \n",
              "181     150                1            1.9  ...                   0   \n",
              "188     157                0            1.2  ...                   0   \n",
              "\n",
              "     work_type_Never_worked  work_type_Private  work_type_Self-employed  \\\n",
              "1                         0                  0                        1   \n",
              "9                         0                  1                        0   \n",
              "52                        0                  1                        0   \n",
              "181                       0                  1                        0   \n",
              "188                       0                  1                        0   \n",
              "\n",
              "     work_type_children  smoking_status_formerly smoked  \\\n",
              "1                     0                               0   \n",
              "9                     0                               0   \n",
              "52                    0                               0   \n",
              "181                   0                               1   \n",
              "188                   0                               1   \n",
              "\n",
              "     smoking_status_never smoked  smoking_status_smokes  Gender_Female  \\\n",
              "1                              1                      0              0   \n",
              "9                              1                      0              0   \n",
              "52                             1                      0              0   \n",
              "181                            0                      0              0   \n",
              "188                            0                      0              0   \n",
              "\n",
              "     Gender_Male  \n",
              "1              1  \n",
              "9              1  \n",
              "52             1  \n",
              "181            1  \n",
              "188            1  \n",
              "\n",
              "[5 rows x 24 columns]"
            ],
            "text/html": [
              "\n",
              "  <div id=\"df-1838fd8e-1c16-4535-9f1c-56abdbb86e49\">\n",
              "    <div class=\"colab-df-container\">\n",
              "      <div>\n",
              "<style scoped>\n",
              "    .dataframe tbody tr th:only-of-type {\n",
              "        vertical-align: middle;\n",
              "    }\n",
              "\n",
              "    .dataframe tbody tr th {\n",
              "        vertical-align: top;\n",
              "    }\n",
              "\n",
              "    .dataframe thead th {\n",
              "        text-align: right;\n",
              "    }\n",
              "</style>\n",
              "<table border=\"1\" class=\"dataframe\">\n",
              "  <thead>\n",
              "    <tr style=\"text-align: right;\">\n",
              "      <th></th>\n",
              "      <th>id</th>\n",
              "      <th>Age</th>\n",
              "      <th>Chest pain type</th>\n",
              "      <th>BP</th>\n",
              "      <th>Cholesterol</th>\n",
              "      <th>FBS over 120</th>\n",
              "      <th>EKG results</th>\n",
              "      <th>Max HR</th>\n",
              "      <th>Exercise angina</th>\n",
              "      <th>ST depression</th>\n",
              "      <th>...</th>\n",
              "      <th>work_type_Govt_job</th>\n",
              "      <th>work_type_Never_worked</th>\n",
              "      <th>work_type_Private</th>\n",
              "      <th>work_type_Self-employed</th>\n",
              "      <th>work_type_children</th>\n",
              "      <th>smoking_status_formerly smoked</th>\n",
              "      <th>smoking_status_never smoked</th>\n",
              "      <th>smoking_status_smokes</th>\n",
              "      <th>Gender_Female</th>\n",
              "      <th>Gender_Male</th>\n",
              "    </tr>\n",
              "  </thead>\n",
              "  <tbody>\n",
              "    <tr>\n",
              "      <th>1</th>\n",
              "      <td>2</td>\n",
              "      <td>67.0</td>\n",
              "      <td>3</td>\n",
              "      <td>115</td>\n",
              "      <td>564</td>\n",
              "      <td>0</td>\n",
              "      <td>2</td>\n",
              "      <td>160</td>\n",
              "      <td>0</td>\n",
              "      <td>1.6</td>\n",
              "      <td>...</td>\n",
              "      <td>0</td>\n",
              "      <td>0</td>\n",
              "      <td>0</td>\n",
              "      <td>1</td>\n",
              "      <td>0</td>\n",
              "      <td>0</td>\n",
              "      <td>1</td>\n",
              "      <td>0</td>\n",
              "      <td>0</td>\n",
              "      <td>1</td>\n",
              "    </tr>\n",
              "    <tr>\n",
              "      <th>9</th>\n",
              "      <td>10</td>\n",
              "      <td>63.0</td>\n",
              "      <td>4</td>\n",
              "      <td>150</td>\n",
              "      <td>407</td>\n",
              "      <td>0</td>\n",
              "      <td>2</td>\n",
              "      <td>154</td>\n",
              "      <td>0</td>\n",
              "      <td>4.0</td>\n",
              "      <td>...</td>\n",
              "      <td>0</td>\n",
              "      <td>0</td>\n",
              "      <td>1</td>\n",
              "      <td>0</td>\n",
              "      <td>0</td>\n",
              "      <td>0</td>\n",
              "      <td>1</td>\n",
              "      <td>0</td>\n",
              "      <td>0</td>\n",
              "      <td>1</td>\n",
              "    </tr>\n",
              "    <tr>\n",
              "      <th>52</th>\n",
              "      <td>53</td>\n",
              "      <td>65.0</td>\n",
              "      <td>3</td>\n",
              "      <td>140</td>\n",
              "      <td>417</td>\n",
              "      <td>1</td>\n",
              "      <td>2</td>\n",
              "      <td>157</td>\n",
              "      <td>0</td>\n",
              "      <td>0.8</td>\n",
              "      <td>...</td>\n",
              "      <td>0</td>\n",
              "      <td>0</td>\n",
              "      <td>1</td>\n",
              "      <td>0</td>\n",
              "      <td>0</td>\n",
              "      <td>0</td>\n",
              "      <td>1</td>\n",
              "      <td>0</td>\n",
              "      <td>0</td>\n",
              "      <td>1</td>\n",
              "    </tr>\n",
              "    <tr>\n",
              "      <th>181</th>\n",
              "      <td>182</td>\n",
              "      <td>56.0</td>\n",
              "      <td>4</td>\n",
              "      <td>134</td>\n",
              "      <td>409</td>\n",
              "      <td>0</td>\n",
              "      <td>2</td>\n",
              "      <td>150</td>\n",
              "      <td>1</td>\n",
              "      <td>1.9</td>\n",
              "      <td>...</td>\n",
              "      <td>0</td>\n",
              "      <td>0</td>\n",
              "      <td>1</td>\n",
              "      <td>0</td>\n",
              "      <td>0</td>\n",
              "      <td>1</td>\n",
              "      <td>0</td>\n",
              "      <td>0</td>\n",
              "      <td>0</td>\n",
              "      <td>1</td>\n",
              "    </tr>\n",
              "    <tr>\n",
              "      <th>188</th>\n",
              "      <td>189</td>\n",
              "      <td>62.0</td>\n",
              "      <td>4</td>\n",
              "      <td>140</td>\n",
              "      <td>394</td>\n",
              "      <td>0</td>\n",
              "      <td>2</td>\n",
              "      <td>157</td>\n",
              "      <td>0</td>\n",
              "      <td>1.2</td>\n",
              "      <td>...</td>\n",
              "      <td>0</td>\n",
              "      <td>0</td>\n",
              "      <td>1</td>\n",
              "      <td>0</td>\n",
              "      <td>0</td>\n",
              "      <td>1</td>\n",
              "      <td>0</td>\n",
              "      <td>0</td>\n",
              "      <td>0</td>\n",
              "      <td>1</td>\n",
              "    </tr>\n",
              "  </tbody>\n",
              "</table>\n",
              "<p>5 rows × 24 columns</p>\n",
              "</div>\n",
              "      <button class=\"colab-df-convert\" onclick=\"convertToInteractive('df-1838fd8e-1c16-4535-9f1c-56abdbb86e49')\"\n",
              "              title=\"Convert this dataframe to an interactive table.\"\n",
              "              style=\"display:none;\">\n",
              "        \n",
              "  <svg xmlns=\"http://www.w3.org/2000/svg\" height=\"24px\"viewBox=\"0 0 24 24\"\n",
              "       width=\"24px\">\n",
              "    <path d=\"M0 0h24v24H0V0z\" fill=\"none\"/>\n",
              "    <path d=\"M18.56 5.44l.94 2.06.94-2.06 2.06-.94-2.06-.94-.94-2.06-.94 2.06-2.06.94zm-11 1L8.5 8.5l.94-2.06 2.06-.94-2.06-.94L8.5 2.5l-.94 2.06-2.06.94zm10 10l.94 2.06.94-2.06 2.06-.94-2.06-.94-.94-2.06-.94 2.06-2.06.94z\"/><path d=\"M17.41 7.96l-1.37-1.37c-.4-.4-.92-.59-1.43-.59-.52 0-1.04.2-1.43.59L10.3 9.45l-7.72 7.72c-.78.78-.78 2.05 0 2.83L4 21.41c.39.39.9.59 1.41.59.51 0 1.02-.2 1.41-.59l7.78-7.78 2.81-2.81c.8-.78.8-2.07 0-2.86zM5.41 20L4 18.59l7.72-7.72 1.47 1.35L5.41 20z\"/>\n",
              "  </svg>\n",
              "      </button>\n",
              "      \n",
              "  <style>\n",
              "    .colab-df-container {\n",
              "      display:flex;\n",
              "      flex-wrap:wrap;\n",
              "      gap: 12px;\n",
              "    }\n",
              "\n",
              "    .colab-df-convert {\n",
              "      background-color: #E8F0FE;\n",
              "      border: none;\n",
              "      border-radius: 50%;\n",
              "      cursor: pointer;\n",
              "      display: none;\n",
              "      fill: #1967D2;\n",
              "      height: 32px;\n",
              "      padding: 0 0 0 0;\n",
              "      width: 32px;\n",
              "    }\n",
              "\n",
              "    .colab-df-convert:hover {\n",
              "      background-color: #E2EBFA;\n",
              "      box-shadow: 0px 1px 2px rgba(60, 64, 67, 0.3), 0px 1px 3px 1px rgba(60, 64, 67, 0.15);\n",
              "      fill: #174EA6;\n",
              "    }\n",
              "\n",
              "    [theme=dark] .colab-df-convert {\n",
              "      background-color: #3B4455;\n",
              "      fill: #D2E3FC;\n",
              "    }\n",
              "\n",
              "    [theme=dark] .colab-df-convert:hover {\n",
              "      background-color: #434B5C;\n",
              "      box-shadow: 0px 1px 3px 1px rgba(0, 0, 0, 0.15);\n",
              "      filter: drop-shadow(0px 1px 2px rgba(0, 0, 0, 0.3));\n",
              "      fill: #FFFFFF;\n",
              "    }\n",
              "  </style>\n",
              "\n",
              "      <script>\n",
              "        const buttonEl =\n",
              "          document.querySelector('#df-1838fd8e-1c16-4535-9f1c-56abdbb86e49 button.colab-df-convert');\n",
              "        buttonEl.style.display =\n",
              "          google.colab.kernel.accessAllowed ? 'block' : 'none';\n",
              "\n",
              "        async function convertToInteractive(key) {\n",
              "          const element = document.querySelector('#df-1838fd8e-1c16-4535-9f1c-56abdbb86e49');\n",
              "          const dataTable =\n",
              "            await google.colab.kernel.invokeFunction('convertToInteractive',\n",
              "                                                     [key], {});\n",
              "          if (!dataTable) return;\n",
              "\n",
              "          const docLinkHtml = 'Like what you see? Visit the ' +\n",
              "            '<a target=\"_blank\" href=https://colab.research.google.com/notebooks/data_table.ipynb>data table notebook</a>'\n",
              "            + ' to learn more about interactive tables.';\n",
              "          element.innerHTML = '';\n",
              "          dataTable['output_type'] = 'display_data';\n",
              "          await google.colab.output.renderOutput(dataTable, element);\n",
              "          const docLink = document.createElement('div');\n",
              "          docLink.innerHTML = docLinkHtml;\n",
              "          element.appendChild(docLink);\n",
              "        }\n",
              "      </script>\n",
              "    </div>\n",
              "  </div>\n",
              "  "
            ]
          },
          "metadata": {},
          "execution_count": 117
        }
      ],
      "source": [
        "data[(data[\"Cholesterol\"]>370)] "
      ]
    },
    {
      "cell_type": "code",
      "execution_count": 118,
      "id": "d804ef41",
      "metadata": {
        "id": "d804ef41",
        "colab": {
          "base_uri": "https://localhost:8080/",
          "height": 430
        },
        "outputId": "79d74a03-ef45-4a28-ee6e-1ad41ca20796"
      },
      "outputs": [
        {
          "output_type": "display_data",
          "data": {
            "text/plain": [
              "<Figure size 640x480 with 1 Axes>"
            ],
            "image/png": "[encoded data removed]"
          },
          "metadata": {}
        }
      ],
      "source": [
        "sns.boxplot(data=data,palette='rainbow',orient='h')\n",
        "# cholestrol oultiers remove\n",
        "data.drop([  1,   9,  181,52,188],axis=0,inplace=True)\n",
        "\n"
      ]
    },
    {
      "cell_type": "code",
      "execution_count": 119,
      "id": "8495d0e5",
      "metadata": {
        "id": "8495d0e5",
        "colab": {
          "base_uri": "https://localhost:8080/"
        },
        "outputId": "9b511dc9-93c1-4cf2-da53-e59dc2ea9f69"
      },
      "outputs": [
        {
          "output_type": "stream",
          "name": "stdout",
          "text": [
            "skewness value of Cholestrol: 0.10914766288712821\n"
          ]
        }
      ],
      "source": [
        "\n",
        "print('skewness value of Cholestrol:',data['Cholesterol'].skew())\n",
        "# 1.1628003276247532 before remove outlier\n",
        " \n",
        "   "
      ]
    },
    {
      "cell_type": "code",
      "execution_count": 120,
      "id": "91465cca",
      "metadata": {
        "id": "91465cca",
        "colab": {
          "base_uri": "https://localhost:8080/"
        },
        "outputId": "7547908d-1882-4ef5-c680-601dfd292291"
      },
      "outputs": [
        {
          "output_type": "stream",
          "name": "stdout",
          "text": [
            "0      1.717544\n",
            "2      0.337138\n",
            "3      0.382398\n",
            "4      0.518175\n",
            "5      1.563748\n",
            "         ...   \n",
            "265    1.065897\n",
            "266    0.382398\n",
            "267    1.083915\n",
            "268    1.224304\n",
            "269    0.902878\n",
            "Name: Cholesterol, Length: 265, dtype: float64\n"
          ]
        }
      ],
      "source": [
        "from scipy import stats\n",
        "z=np.abs(stats.zscore(data['Cholesterol']))\n",
        "print(z)\n",
        "#  zscore "
      ]
    },
    {
      "cell_type": "code",
      "execution_count": 121,
      "id": "db371bab",
      "metadata": {
        "id": "db371bab",
        "colab": {
          "base_uri": "https://localhost:8080/"
        },
        "outputId": "f59ab891-99aa-46b5-a274-ee0aa2470012"
      },
      "outputs": [
        {
          "output_type": "stream",
          "name": "stdout",
          "text": [
            "Heart Disease                     1.000000\n",
            "Thallium                          0.523688\n",
            "Number of vessels fluro           0.447474\n",
            "Max HR                            0.419929\n",
            "Chest pain type                   0.417527\n",
            "Exercise angina                   0.416190\n",
            "ST depression                     0.415115\n",
            "Slope of ST                       0.338140\n",
            "Gender_Female                     0.296679\n",
            "Gender_Male                       0.291465\n",
            "Age                               0.214442\n",
            "EKG results                       0.187147\n",
            "Cholesterol                       0.158072\n",
            "BP                                0.152696\n",
            "smoking_status_smokes             0.059904\n",
            "work_type_Never_worked            0.055142\n",
            "smoking_status_formerly smoked    0.054590\n",
            "work_type_children                0.047665\n",
            "work_type_Self-employed           0.036293\n",
            "work_type_Govt_job                0.029106\n",
            "smoking_status_never smoked       0.028645\n",
            "work_type_Private                 0.015119\n",
            "FBS over 120                      0.007845\n",
            "id                                0.006904\n",
            "Name: Heart Disease, dtype: float64\n"
          ]
        }
      ],
      "source": [
        "corr_matrix = data.corr()\n",
        "print(abs(corr_matrix[\"Heart Disease\"]).sort_values(ascending=False))"
      ]
    },
    {
      "cell_type": "code",
      "execution_count": 122,
      "id": "0695eb2d",
      "metadata": {
        "id": "0695eb2d",
        "colab": {
          "base_uri": "https://localhost:8080/",
          "height": 654
        },
        "outputId": "46d3bb0d-3f25-4bbf-f0c9-a16beeb322c6"
      },
      "outputs": [
        {
          "output_type": "display_data",
          "data": {
            "text/plain": [
              "<Figure size 640x480 with 2 Axes>"
            ],
            "image/png": "[encoded data removed]"
          },
          "metadata": {}
        }
      ],
      "source": [
        "sns.heatmap(data.corr())\n",
        "data.drop('work_type_Private',axis=1,inplace=True)\n",
        "data.drop('id',axis=1,inplace=True)\n",
        "data.drop('BP',axis=1,inplace=True)\n",
        "data.drop('FBS over 120',axis=1,inplace=True)\n",
        "data.drop('work_type_Never_worked',axis=1,inplace=True)\n",
        "data.drop('work_type_Self-employed',axis=1,inplace=True)\n",
        "data.drop('work_type_children',axis=1,inplace=True)\n",
        "data.drop('smoking_status_smokes',axis=1,inplace=True)\n",
        "data.drop('smoking_status_never smoked',axis=1,inplace=True)\n",
        "data.drop('smoking_status_formerly smoked',axis=1,inplace=True)\n"
      ]
    },
    {
      "cell_type": "code",
      "execution_count": 123,
      "id": "9a7f7735",
      "metadata": {
        "id": "9a7f7735",
        "colab": {
          "base_uri": "https://localhost:8080/",
          "height": 621
        },
        "outputId": "89ab28b6-91a3-4151-da5e-461e84d210c1"
      },
      "outputs": [
        {
          "output_type": "execute_result",
          "data": {
            "text/plain": [
              "                              Age  Chest pain type  Cholesterol  EKG results  \\\n",
              "Age                      1.000000         0.093538     0.183605     0.113687   \n",
              "Chest pain type          0.093538         1.000000     0.079793     0.066908   \n",
              "Cholesterol              0.183605         0.079793     1.000000     0.118884   \n",
              "EKG results              0.113687         0.066908     0.118884     1.000000   \n",
              "Max HR                  -0.402279        -0.320539    -0.045403    -0.080168   \n",
              "Exercise angina          0.107554         0.356379     0.120766     0.101889   \n",
              "ST depression            0.185412         0.159090    -0.024489     0.108775   \n",
              "Slope of ST              0.149873         0.131354    -0.038367     0.156346   \n",
              "Number of vessels fluro  0.358708         0.220082     0.121091     0.106763   \n",
              "Thallium                 0.096859         0.261926    -0.007039     0.000621   \n",
              "Heart Disease            0.214442         0.417527     0.158072     0.187147   \n",
              "work_type_Govt_job       0.004294        -0.040261    -0.063752    -0.047904   \n",
              "Gender_Female           -0.061405         0.078474    -0.108201     0.067349   \n",
              "Gender_Male              0.052304        -0.054191     0.119021    -0.085003   \n",
              "\n",
              "                           Max HR  Exercise angina  ST depression  \\\n",
              "Age                     -0.402279         0.107554       0.185412   \n",
              "Chest pain type         -0.320539         0.356379       0.159090   \n",
              "Cholesterol             -0.045403         0.120766      -0.024489   \n",
              "EKG results             -0.080168         0.101889       0.108775   \n",
              "Max HR                   1.000000        -0.380622      -0.356952   \n",
              "Exercise angina         -0.380622         1.000000       0.284646   \n",
              "ST depression           -0.356952         0.284646       1.000000   \n",
              "Slope of ST             -0.390487         0.258397       0.610674   \n",
              "Number of vessels fluro -0.270468         0.153361       0.236612   \n",
              "Thallium                -0.257207         0.322688       0.314982   \n",
              "Heart Disease           -0.419929         0.416190       0.415115   \n",
              "work_type_Govt_job      -0.015947        -0.015404       0.031695   \n",
              "Gender_Female           -0.079946         0.180694       0.111385   \n",
              "Gender_Male              0.079912        -0.166963      -0.118629   \n",
              "\n",
              "                         Slope of ST  Number of vessels fluro  Thallium  \\\n",
              "Age                         0.149873                 0.358708  0.096859   \n",
              "Chest pain type             0.131354                 0.220082  0.261926   \n",
              "Cholesterol                -0.038367                 0.121091 -0.007039   \n",
              "EKG results                 0.156346                 0.106763  0.000621   \n",
              "Max HR                     -0.390487                -0.270468 -0.257207   \n",
              "Exercise angina             0.258397                 0.153361  0.322688   \n",
              "ST depression               0.610674                 0.236612  0.314982   \n",
              "Slope of ST                 1.000000                 0.106888  0.278199   \n",
              "Number of vessels fluro     0.106888                 1.000000  0.247333   \n",
              "Thallium                    0.278199                 0.247333  1.000000   \n",
              "Heart Disease               0.338140                 0.447474  0.523688   \n",
              "work_type_Govt_job          0.007593                 0.023148  0.048759   \n",
              "Gender_Female               0.091315                 0.101704  0.419787   \n",
              "Gender_Male                -0.059937                -0.104057 -0.402212   \n",
              "\n",
              "                         Heart Disease  work_type_Govt_job  Gender_Female  \\\n",
              "Age                           0.214442            0.004294      -0.061405   \n",
              "Chest pain type               0.417527           -0.040261       0.078474   \n",
              "Cholesterol                   0.158072           -0.063752      -0.108201   \n",
              "EKG results                   0.187147           -0.047904       0.067349   \n",
              "Max HR                       -0.419929           -0.015947      -0.079946   \n",
              "Exercise angina               0.416190           -0.015404       0.180694   \n",
              "ST depression                 0.415115            0.031695       0.111385   \n",
              "Slope of ST                   0.338140            0.007593       0.091315   \n",
              "Number of vessels fluro       0.447474            0.023148       0.101704   \n",
              "Thallium                      0.523688            0.048759       0.419787   \n",
              "Heart Disease                 1.000000           -0.029106       0.296679   \n",
              "work_type_Govt_job           -0.029106            1.000000       0.009521   \n",
              "Gender_Female                 0.296679            0.009521       1.000000   \n",
              "Gender_Male                  -0.291465           -0.016659      -0.948716   \n",
              "\n",
              "                         Gender_Male  \n",
              "Age                         0.052304  \n",
              "Chest pain type            -0.054191  \n",
              "Cholesterol                 0.119021  \n",
              "EKG results                -0.085003  \n",
              "Max HR                      0.079912  \n",
              "Exercise angina            -0.166963  \n",
              "ST depression              -0.118629  \n",
              "Slope of ST                -0.059937  \n",
              "Number of vessels fluro    -0.104057  \n",
              "Thallium                   -0.402212  \n",
              "Heart Disease              -0.291465  \n",
              "work_type_Govt_job         -0.016659  \n",
              "Gender_Female              -0.948716  \n",
              "Gender_Male                 1.000000  "
            ],
            "text/html": [
              "\n",
              "  <div id=\"df-ecaa9fa8-4449-4dd3-a064-b46639ab6fe1\">\n",
              "    <div class=\"colab-df-container\">\n",
              "      <div>\n",
              "<style scoped>\n",
              "    .dataframe tbody tr th:only-of-type {\n",
              "        vertical-align: middle;\n",
              "    }\n",
              "\n",
              "    .dataframe tbody tr th {\n",
              "        vertical-align: top;\n",
              "    }\n",
              "\n",
              "    .dataframe thead th {\n",
              "        text-align: right;\n",
              "    }\n",
              "</style>\n",
              "<table border=\"1\" class=\"dataframe\">\n",
              "  <thead>\n",
              "    <tr style=\"text-align: right;\">\n",
              "      <th></th>\n",
              "      <th>Age</th>\n",
              "      <th>Chest pain type</th>\n",
              "      <th>Cholesterol</th>\n",
              "      <th>EKG results</th>\n",
              "      <th>Max HR</th>\n",
              "      <th>Exercise angina</th>\n",
              "      <th>ST depression</th>\n",
              "      <th>Slope of ST</th>\n",
              "      <th>Number of vessels fluro</th>\n",
              "      <th>Thallium</th>\n",
              "      <th>Heart Disease</th>\n",
              "      <th>work_type_Govt_job</th>\n",
              "      <th>Gender_Female</th>\n",
              "      <th>Gender_Male</th>\n",
              "    </tr>\n",
              "  </thead>\n",
              "  <tbody>\n",
              "    <tr>\n",
              "      <th>Age</th>\n",
              "      <td>1.000000</td>\n",
              "      <td>0.093538</td>\n",
              "      <td>0.183605</td>\n",
              "      <td>0.113687</td>\n",
              "      <td>-0.402279</td>\n",
              "      <td>0.107554</td>\n",
              "      <td>0.185412</td>\n",
              "      <td>0.149873</td>\n",
              "      <td>0.358708</td>\n",
              "      <td>0.096859</td>\n",
              "      <td>0.214442</td>\n",
              "      <td>0.004294</td>\n",
              "      <td>-0.061405</td>\n",
              "      <td>0.052304</td>\n",
              "    </tr>\n",
              "    <tr>\n",
              "      <th>Chest pain type</th>\n",
              "      <td>0.093538</td>\n",
              "      <td>1.000000</td>\n",
              "      <td>0.079793</td>\n",
              "      <td>0.066908</td>\n",
              "      <td>-0.320539</td>\n",
              "      <td>0.356379</td>\n",
              "      <td>0.159090</td>\n",
              "      <td>0.131354</td>\n",
              "      <td>0.220082</td>\n",
              "      <td>0.261926</td>\n",
              "      <td>0.417527</td>\n",
              "      <td>-0.040261</td>\n",
              "      <td>0.078474</td>\n",
              "      <td>-0.054191</td>\n",
              "    </tr>\n",
              "    <tr>\n",
              "      <th>Cholesterol</th>\n",
              "      <td>0.183605</td>\n",
              "      <td>0.079793</td>\n",
              "      <td>1.000000</td>\n",
              "      <td>0.118884</td>\n",
              "      <td>-0.045403</td>\n",
              "      <td>0.120766</td>\n",
              "      <td>-0.024489</td>\n",
              "      <td>-0.038367</td>\n",
              "      <td>0.121091</td>\n",
              "      <td>-0.007039</td>\n",
              "      <td>0.158072</td>\n",
              "      <td>-0.063752</td>\n",
              "      <td>-0.108201</td>\n",
              "      <td>0.119021</td>\n",
              "    </tr>\n",
              "    <tr>\n",
              "      <th>EKG results</th>\n",
              "      <td>0.113687</td>\n",
              "      <td>0.066908</td>\n",
              "      <td>0.118884</td>\n",
              "      <td>1.000000</td>\n",
              "      <td>-0.080168</td>\n",
              "      <td>0.101889</td>\n",
              "      <td>0.108775</td>\n",
              "      <td>0.156346</td>\n",
              "      <td>0.106763</td>\n",
              "      <td>0.000621</td>\n",
              "      <td>0.187147</td>\n",
              "      <td>-0.047904</td>\n",
              "      <td>0.067349</td>\n",
              "      <td>-0.085003</td>\n",
              "    </tr>\n",
              "    <tr>\n",
              "      <th>Max HR</th>\n",
              "      <td>-0.402279</td>\n",
              "      <td>-0.320539</td>\n",
              "      <td>-0.045403</td>\n",
              "      <td>-0.080168</td>\n",
              "      <td>1.000000</td>\n",
              "      <td>-0.380622</td>\n",
              "      <td>-0.356952</td>\n",
              "      <td>-0.390487</td>\n",
              "      <td>-0.270468</td>\n",
              "      <td>-0.257207</td>\n",
              "      <td>-0.419929</td>\n",
              "      <td>-0.015947</td>\n",
              "      <td>-0.079946</td>\n",
              "      <td>0.079912</td>\n",
              "    </tr>\n",
              "    <tr>\n",
              "      <th>Exercise angina</th>\n",
              "      <td>0.107554</td>\n",
              "      <td>0.356379</td>\n",
              "      <td>0.120766</td>\n",
              "      <td>0.101889</td>\n",
              "      <td>-0.380622</td>\n",
              "      <td>1.000000</td>\n",
              "      <td>0.284646</td>\n",
              "      <td>0.258397</td>\n",
              "      <td>0.153361</td>\n",
              "      <td>0.322688</td>\n",
              "      <td>0.416190</td>\n",
              "      <td>-0.015404</td>\n",
              "      <td>0.180694</td>\n",
              "      <td>-0.166963</td>\n",
              "    </tr>\n",
              "    <tr>\n",
              "      <th>ST depression</th>\n",
              "      <td>0.185412</td>\n",
              "      <td>0.159090</td>\n",
              "      <td>-0.024489</td>\n",
              "      <td>0.108775</td>\n",
              "      <td>-0.356952</td>\n",
              "      <td>0.284646</td>\n",
              "      <td>1.000000</td>\n",
              "      <td>0.610674</td>\n",
              "      <td>0.236612</td>\n",
              "      <td>0.314982</td>\n",
              "      <td>0.415115</td>\n",
              "      <td>0.031695</td>\n",
              "      <td>0.111385</td>\n",
              "      <td>-0.118629</td>\n",
              "    </tr>\n",
              "    <tr>\n",
              "      <th>Slope of ST</th>\n",
              "      <td>0.149873</td>\n",
              "      <td>0.131354</td>\n",
              "      <td>-0.038367</td>\n",
              "      <td>0.156346</td>\n",
              "      <td>-0.390487</td>\n",
              "      <td>0.258397</td>\n",
              "      <td>0.610674</td>\n",
              "      <td>1.000000</td>\n",
              "      <td>0.106888</td>\n",
              "      <td>0.278199</td>\n",
              "      <td>0.338140</td>\n",
              "      <td>0.007593</td>\n",
              "      <td>0.091315</td>\n",
              "      <td>-0.059937</td>\n",
              "    </tr>\n",
              "    <tr>\n",
              "      <th>Number of vessels fluro</th>\n",
              "      <td>0.358708</td>\n",
              "      <td>0.220082</td>\n",
              "      <td>0.121091</td>\n",
              "      <td>0.106763</td>\n",
              "      <td>-0.270468</td>\n",
              "      <td>0.153361</td>\n",
              "      <td>0.236612</td>\n",
              "      <td>0.106888</td>\n",
              "      <td>1.000000</td>\n",
              "      <td>0.247333</td>\n",
              "      <td>0.447474</td>\n",
              "      <td>0.023148</td>\n",
              "      <td>0.101704</td>\n",
              "      <td>-0.104057</td>\n",
              "    </tr>\n",
              "    <tr>\n",
              "      <th>Thallium</th>\n",
              "      <td>0.096859</td>\n",
              "      <td>0.261926</td>\n",
              "      <td>-0.007039</td>\n",
              "      <td>0.000621</td>\n",
              "      <td>-0.257207</td>\n",
              "      <td>0.322688</td>\n",
              "      <td>0.314982</td>\n",
              "      <td>0.278199</td>\n",
              "      <td>0.247333</td>\n",
              "      <td>1.000000</td>\n",
              "      <td>0.523688</td>\n",
              "      <td>0.048759</td>\n",
              "      <td>0.419787</td>\n",
              "      <td>-0.402212</td>\n",
              "    </tr>\n",
              "    <tr>\n",
              "      <th>Heart Disease</th>\n",
              "      <td>0.214442</td>\n",
              "      <td>0.417527</td>\n",
              "      <td>0.158072</td>\n",
              "      <td>0.187147</td>\n",
              "      <td>-0.419929</td>\n",
              "      <td>0.416190</td>\n",
              "      <td>0.415115</td>\n",
              "      <td>0.338140</td>\n",
              "      <td>0.447474</td>\n",
              "      <td>0.523688</td>\n",
              "      <td>1.000000</td>\n",
              "      <td>-0.029106</td>\n",
              "      <td>0.296679</td>\n",
              "      <td>-0.291465</td>\n",
              "    </tr>\n",
              "    <tr>\n",
              "      <th>work_type_Govt_job</th>\n",
              "      <td>0.004294</td>\n",
              "      <td>-0.040261</td>\n",
              "      <td>-0.063752</td>\n",
              "      <td>-0.047904</td>\n",
              "      <td>-0.015947</td>\n",
              "      <td>-0.015404</td>\n",
              "      <td>0.031695</td>\n",
              "      <td>0.007593</td>\n",
              "      <td>0.023148</td>\n",
              "      <td>0.048759</td>\n",
              "      <td>-0.029106</td>\n",
              "      <td>1.000000</td>\n",
              "      <td>0.009521</td>\n",
              "      <td>-0.016659</td>\n",
              "    </tr>\n",
              "    <tr>\n",
              "      <th>Gender_Female</th>\n",
              "      <td>-0.061405</td>\n",
              "      <td>0.078474</td>\n",
              "      <td>-0.108201</td>\n",
              "      <td>0.067349</td>\n",
              "      <td>-0.079946</td>\n",
              "      <td>0.180694</td>\n",
              "      <td>0.111385</td>\n",
              "      <td>0.091315</td>\n",
              "      <td>0.101704</td>\n",
              "      <td>0.419787</td>\n",
              "      <td>0.296679</td>\n",
              "      <td>0.009521</td>\n",
              "      <td>1.000000</td>\n",
              "      <td>-0.948716</td>\n",
              "    </tr>\n",
              "    <tr>\n",
              "      <th>Gender_Male</th>\n",
              "      <td>0.052304</td>\n",
              "      <td>-0.054191</td>\n",
              "      <td>0.119021</td>\n",
              "      <td>-0.085003</td>\n",
              "      <td>0.079912</td>\n",
              "      <td>-0.166963</td>\n",
              "      <td>-0.118629</td>\n",
              "      <td>-0.059937</td>\n",
              "      <td>-0.104057</td>\n",
              "      <td>-0.402212</td>\n",
              "      <td>-0.291465</td>\n",
              "      <td>-0.016659</td>\n",
              "      <td>-0.948716</td>\n",
              "      <td>1.000000</td>\n",
              "    </tr>\n",
              "  </tbody>\n",
              "</table>\n",
              "</div>\n",
              "      <button class=\"colab-df-convert\" onclick=\"convertToInteractive('df-ecaa9fa8-4449-4dd3-a064-b46639ab6fe1')\"\n",
              "              title=\"Convert this dataframe to an interactive table.\"\n",
              "              style=\"display:none;\">\n",
              "        \n",
              "  <svg xmlns=\"http://www.w3.org/2000/svg\" height=\"24px\"viewBox=\"0 0 24 24\"\n",
              "       width=\"24px\">\n",
              "    <path d=\"M0 0h24v24H0V0z\" fill=\"none\"/>\n",
              "    <path d=\"M18.56 5.44l.94 2.06.94-2.06 2.06-.94-2.06-.94-.94-2.06-.94 2.06-2.06.94zm-11 1L8.5 8.5l.94-2.06 2.06-.94-2.06-.94L8.5 2.5l-.94 2.06-2.06.94zm10 10l.94 2.06.94-2.06 2.06-.94-2.06-.94-.94-2.06-.94 2.06-2.06.94z\"/><path d=\"M17.41 7.96l-1.37-1.37c-.4-.4-.92-.59-1.43-.59-.52 0-1.04.2-1.43.59L10.3 9.45l-7.72 7.72c-.78.78-.78 2.05 0 2.83L4 21.41c.39.39.9.59 1.41.59.51 0 1.02-.2 1.41-.59l7.78-7.78 2.81-2.81c.8-.78.8-2.07 0-2.86zM5.41 20L4 18.59l7.72-7.72 1.47 1.35L5.41 20z\"/>\n",
              "  </svg>\n",
              "      </button>\n",
              "      \n",
              "  <style>\n",
              "    .colab-df-container {\n",
              "      display:flex;\n",
              "      flex-wrap:wrap;\n",
              "      gap: 12px;\n",
              "    }\n",
              "\n",
              "    .colab-df-convert {\n",
              "      background-color: #E8F0FE;\n",
              "      border: none;\n",
              "      border-radius: 50%;\n",
              "      cursor: pointer;\n",
              "      display: none;\n",
              "      fill: #1967D2;\n",
              "      height: 32px;\n",
              "      padding: 0 0 0 0;\n",
              "      width: 32px;\n",
              "    }\n",
              "\n",
              "    .colab-df-convert:hover {\n",
              "      background-color: #E2EBFA;\n",
              "      box-shadow: 0px 1px 2px rgba(60, 64, 67, 0.3), 0px 1px 3px 1px rgba(60, 64, 67, 0.15);\n",
              "      fill: #174EA6;\n",
              "    }\n",
              "\n",
              "    [theme=dark] .colab-df-convert {\n",
              "      background-color: #3B4455;\n",
              "      fill: #D2E3FC;\n",
              "    }\n",
              "\n",
              "    [theme=dark] .colab-df-convert:hover {\n",
              "      background-color: #434B5C;\n",
              "      box-shadow: 0px 1px 3px 1px rgba(0, 0, 0, 0.15);\n",
              "      filter: drop-shadow(0px 1px 2px rgba(0, 0, 0, 0.3));\n",
              "      fill: #FFFFFF;\n",
              "    }\n",
              "  </style>\n",
              "\n",
              "      <script>\n",
              "        const buttonEl =\n",
              "          document.querySelector('#df-ecaa9fa8-4449-4dd3-a064-b46639ab6fe1 button.colab-df-convert');\n",
              "        buttonEl.style.display =\n",
              "          google.colab.kernel.accessAllowed ? 'block' : 'none';\n",
              "\n",
              "        async function convertToInteractive(key) {\n",
              "          const element = document.querySelector('#df-ecaa9fa8-4449-4dd3-a064-b46639ab6fe1');\n",
              "          const dataTable =\n",
              "            await google.colab.kernel.invokeFunction('convertToInteractive',\n",
              "                                                     [key], {});\n",
              "          if (!dataTable) return;\n",
              "\n",
              "          const docLinkHtml = 'Like what you see? Visit the ' +\n",
              "            '<a target=\"_blank\" href=https://colab.research.google.com/notebooks/data_table.ipynb>data table notebook</a>'\n",
              "            + ' to learn more about interactive tables.';\n",
              "          element.innerHTML = '';\n",
              "          dataTable['output_type'] = 'display_data';\n",
              "          await google.colab.output.renderOutput(dataTable, element);\n",
              "          const docLink = document.createElement('div');\n",
              "          docLink.innerHTML = docLinkHtml;\n",
              "          element.appendChild(docLink);\n",
              "        }\n",
              "      </script>\n",
              "    </div>\n",
              "  </div>\n",
              "  "
            ]
          },
          "metadata": {},
          "execution_count": 123
        }
      ],
      "source": [
        "data.corr()"
      ]
    },
    {
      "cell_type": "code",
      "execution_count": 124,
      "id": "dec4c561",
      "metadata": {
        "id": "dec4c561",
        "colab": {
          "base_uri": "https://localhost:8080/"
        },
        "outputId": "101c5881-368a-411a-f1d1-ed7cdcf658fe"
      },
      "outputs": [
        {
          "output_type": "stream",
          "name": "stdout",
          "text": [
            "0\n"
          ]
        }
      ],
      "source": [
        "print(data.duplicated().sum())"
      ]
    },
    {
      "cell_type": "code",
      "execution_count": 125,
      "id": "fde9c6ef",
      "metadata": {
        "id": "fde9c6ef"
      },
      "outputs": [],
      "source": [
        "x=data.drop('Heart Disease',axis=1) \n",
        "y=data['Heart Disease']"
      ]
    },
    {
      "cell_type": "code",
      "execution_count": 126,
      "id": "84d3a944",
      "metadata": {
        "id": "84d3a944",
        "colab": {
          "base_uri": "https://localhost:8080/"
        },
        "outputId": "c142c374-0de9-48a7-c7dd-4cd8ea27e4d0"
      },
      "outputs": [
        {
          "output_type": "stream",
          "name": "stdout",
          "text": [
            "[[-5.79603331 -2.40387242 -5.53032005 ... -1.5079319   0.03774275\n",
            "  -2.09002838]\n",
            " [-5.95427305 -4.60583529 -5.56155807 ... -1.5079319   0.03774275\n",
            "  -2.09002838]\n",
            " [-5.86906704 -2.40387242 -5.56053388 ... -1.5079319   0.03774275\n",
            "  -2.09002838]\n",
            " ...\n",
            " [-5.96644534 -4.60583529 -5.54465881 ...  7.91065716 -4.52409953\n",
            "   2.65490405]\n",
            " [-5.95427305 -2.40387242 -5.59689289 ... -1.5079319   0.03774275\n",
            "  -2.09002838]\n",
            " [-5.83255017 -2.40387242 -5.5487556  ... -1.5079319   0.03774275\n",
            "  -2.09002838]]\n"
          ]
        },
        {
          "output_type": "stream",
          "name": "stderr",
          "text": [
            "/usr/local/lib/python3.10/dist-packages/sklearn/base.py:439: UserWarning: X does not have valid feature names, but StandardScaler was fitted with feature names\n",
            "  warnings.warn(\n"
          ]
        }
      ],
      "source": [
        "    from sklearn.preprocessing import StandardScaler \n",
        "    scaler=StandardScaler()\n",
        "    x=scaler.fit_transform(x)\n",
        "    x=scaler.transform(x)\n",
        "    print (x)"
      ]
    },
    {
      "cell_type": "code",
      "execution_count": 127,
      "id": "b8cabc49",
      "metadata": {
        "scrolled": true,
        "id": "b8cabc49",
        "colab": {
          "base_uri": "https://localhost:8080/",
          "height": 322
        },
        "outputId": "3baa82fc-d74d-4d5a-90ff-4df3e242ced1"
      },
      "outputs": [
        {
          "output_type": "execute_result",
          "data": {
            "text/plain": [
              "    Age  Chest pain type  Cholesterol  EKG results  Max HR  Exercise angina  \\\n",
              "0  70.0                4          322            2     109                0   \n",
              "2  57.0                2          261            0     141                0   \n",
              "3  64.0                4          263            0     105                1   \n",
              "4  74.0                2          269            2     121                1   \n",
              "5  65.0                4          177            0     140                0   \n",
              "\n",
              "   ST depression  Slope of ST  Number of vessels fluro  Thallium  \\\n",
              "0            2.4            2                        3         3   \n",
              "2            0.3            1                        0         7   \n",
              "3            0.2            2                        1         7   \n",
              "4            0.2            1                        1         3   \n",
              "5            0.4            1                        0         7   \n",
              "\n",
              "   Heart Disease  work_type_Govt_job  Gender_Female  Gender_Male  \n",
              "0              1                   0              1            0  \n",
              "2              1                   0              1            0  \n",
              "3              0                   0              1            0  \n",
              "4              0                   0              0            1  \n",
              "5              0                   0              1            0  "
            ],
            "text/html": [
              "\n",
              "  <div id=\"df-d496aaa7-68fd-4dba-935a-020f6c75a337\">\n",
              "    <div class=\"colab-df-container\">\n",
              "      <div>\n",
              "<style scoped>\n",
              "    .dataframe tbody tr th:only-of-type {\n",
              "        vertical-align: middle;\n",
              "    }\n",
              "\n",
              "    .dataframe tbody tr th {\n",
              "        vertical-align: top;\n",
              "    }\n",
              "\n",
              "    .dataframe thead th {\n",
              "        text-align: right;\n",
              "    }\n",
              "</style>\n",
              "<table border=\"1\" class=\"dataframe\">\n",
              "  <thead>\n",
              "    <tr style=\"text-align: right;\">\n",
              "      <th></th>\n",
              "      <th>Age</th>\n",
              "      <th>Chest pain type</th>\n",
              "      <th>Cholesterol</th>\n",
              "      <th>EKG results</th>\n",
              "      <th>Max HR</th>\n",
              "      <th>Exercise angina</th>\n",
              "      <th>ST depression</th>\n",
              "      <th>Slope of ST</th>\n",
              "      <th>Number of vessels fluro</th>\n",
              "      <th>Thallium</th>\n",
              "      <th>Heart Disease</th>\n",
              "      <th>work_type_Govt_job</th>\n",
              "      <th>Gender_Female</th>\n",
              "      <th>Gender_Male</th>\n",
              "    </tr>\n",
              "  </thead>\n",
              "  <tbody>\n",
              "    <tr>\n",
              "      <th>0</th>\n",
              "      <td>70.0</td>\n",
              "      <td>4</td>\n",
              "      <td>322</td>\n",
              "      <td>2</td>\n",
              "      <td>109</td>\n",
              "      <td>0</td>\n",
              "      <td>2.4</td>\n",
              "      <td>2</td>\n",
              "      <td>3</td>\n",
              "      <td>3</td>\n",
              "      <td>1</td>\n",
              "      <td>0</td>\n",
              "      <td>1</td>\n",
              "      <td>0</td>\n",
              "    </tr>\n",
              "    <tr>\n",
              "      <th>2</th>\n",
              "      <td>57.0</td>\n",
              "      <td>2</td>\n",
              "      <td>261</td>\n",
              "      <td>0</td>\n",
              "      <td>141</td>\n",
              "      <td>0</td>\n",
              "      <td>0.3</td>\n",
              "      <td>1</td>\n",
              "      <td>0</td>\n",
              "      <td>7</td>\n",
              "      <td>1</td>\n",
              "      <td>0</td>\n",
              "      <td>1</td>\n",
              "      <td>0</td>\n",
              "    </tr>\n",
              "    <tr>\n",
              "      <th>3</th>\n",
              "      <td>64.0</td>\n",
              "      <td>4</td>\n",
              "      <td>263</td>\n",
              "      <td>0</td>\n",
              "      <td>105</td>\n",
              "      <td>1</td>\n",
              "      <td>0.2</td>\n",
              "      <td>2</td>\n",
              "      <td>1</td>\n",
              "      <td>7</td>\n",
              "      <td>0</td>\n",
              "      <td>0</td>\n",
              "      <td>1</td>\n",
              "      <td>0</td>\n",
              "    </tr>\n",
              "    <tr>\n",
              "      <th>4</th>\n",
              "      <td>74.0</td>\n",
              "      <td>2</td>\n",
              "      <td>269</td>\n",
              "      <td>2</td>\n",
              "      <td>121</td>\n",
              "      <td>1</td>\n",
              "      <td>0.2</td>\n",
              "      <td>1</td>\n",
              "      <td>1</td>\n",
              "      <td>3</td>\n",
              "      <td>0</td>\n",
              "      <td>0</td>\n",
              "      <td>0</td>\n",
              "      <td>1</td>\n",
              "    </tr>\n",
              "    <tr>\n",
              "      <th>5</th>\n",
              "      <td>65.0</td>\n",
              "      <td>4</td>\n",
              "      <td>177</td>\n",
              "      <td>0</td>\n",
              "      <td>140</td>\n",
              "      <td>0</td>\n",
              "      <td>0.4</td>\n",
              "      <td>1</td>\n",
              "      <td>0</td>\n",
              "      <td>7</td>\n",
              "      <td>0</td>\n",
              "      <td>0</td>\n",
              "      <td>1</td>\n",
              "      <td>0</td>\n",
              "    </tr>\n",
              "  </tbody>\n",
              "</table>\n",
              "</div>\n",
              "      <button class=\"colab-df-convert\" onclick=\"convertToInteractive('df-d496aaa7-68fd-4dba-935a-020f6c75a337')\"\n",
              "              title=\"Convert this dataframe to an interactive table.\"\n",
              "              style=\"display:none;\">\n",
              "        \n",
              "  <svg xmlns=\"http://www.w3.org/2000/svg\" height=\"24px\"viewBox=\"0 0 24 24\"\n",
              "       width=\"24px\">\n",
              "    <path d=\"M0 0h24v24H0V0z\" fill=\"none\"/>\n",
              "    <path d=\"M18.56 5.44l.94 2.06.94-2.06 2.06-.94-2.06-.94-.94-2.06-.94 2.06-2.06.94zm-11 1L8.5 8.5l.94-2.06 2.06-.94-2.06-.94L8.5 2.5l-.94 2.06-2.06.94zm10 10l.94 2.06.94-2.06 2.06-.94-2.06-.94-.94-2.06-.94 2.06-2.06.94z\"/><path d=\"M17.41 7.96l-1.37-1.37c-.4-.4-.92-.59-1.43-.59-.52 0-1.04.2-1.43.59L10.3 9.45l-7.72 7.72c-.78.78-.78 2.05 0 2.83L4 21.41c.39.39.9.59 1.41.59.51 0 1.02-.2 1.41-.59l7.78-7.78 2.81-2.81c.8-.78.8-2.07 0-2.86zM5.41 20L4 18.59l7.72-7.72 1.47 1.35L5.41 20z\"/>\n",
              "  </svg>\n",
              "      </button>\n",
              "      \n",
              "  <style>\n",
              "    .colab-df-container {\n",
              "      display:flex;\n",
              "      flex-wrap:wrap;\n",
              "      gap: 12px;\n",
              "    }\n",
              "\n",
              "    .colab-df-convert {\n",
              "      background-color: #E8F0FE;\n",
              "      border: none;\n",
              "      border-radius: 50%;\n",
              "      cursor: pointer;\n",
              "      display: none;\n",
              "      fill: #1967D2;\n",
              "      height: 32px;\n",
              "      padding: 0 0 0 0;\n",
              "      width: 32px;\n",
              "    }\n",
              "\n",
              "    .colab-df-convert:hover {\n",
              "      background-color: #E2EBFA;\n",
              "      box-shadow: 0px 1px 2px rgba(60, 64, 67, 0.3), 0px 1px 3px 1px rgba(60, 64, 67, 0.15);\n",
              "      fill: #174EA6;\n",
              "    }\n",
              "\n",
              "    [theme=dark] .colab-df-convert {\n",
              "      background-color: #3B4455;\n",
              "      fill: #D2E3FC;\n",
              "    }\n",
              "\n",
              "    [theme=dark] .colab-df-convert:hover {\n",
              "      background-color: #434B5C;\n",
              "      box-shadow: 0px 1px 3px 1px rgba(0, 0, 0, 0.15);\n",
              "      filter: drop-shadow(0px 1px 2px rgba(0, 0, 0, 0.3));\n",
              "      fill: #FFFFFF;\n",
              "    }\n",
              "  </style>\n",
              "\n",
              "      <script>\n",
              "        const buttonEl =\n",
              "          document.querySelector('#df-d496aaa7-68fd-4dba-935a-020f6c75a337 button.colab-df-convert');\n",
              "        buttonEl.style.display =\n",
              "          google.colab.kernel.accessAllowed ? 'block' : 'none';\n",
              "\n",
              "        async function convertToInteractive(key) {\n",
              "          const element = document.querySelector('#df-d496aaa7-68fd-4dba-935a-020f6c75a337');\n",
              "          const dataTable =\n",
              "            await google.colab.kernel.invokeFunction('convertToInteractive',\n",
              "                                                     [key], {});\n",
              "          if (!dataTable) return;\n",
              "\n",
              "          const docLinkHtml = 'Like what you see? Visit the ' +\n",
              "            '<a target=\"_blank\" href=https://colab.research.google.com/notebooks/data_table.ipynb>data table notebook</a>'\n",
              "            + ' to learn more about interactive tables.';\n",
              "          element.innerHTML = '';\n",
              "          dataTable['output_type'] = 'display_data';\n",
              "          await google.colab.output.renderOutput(dataTable, element);\n",
              "          const docLink = document.createElement('div');\n",
              "          docLink.innerHTML = docLinkHtml;\n",
              "          element.appendChild(docLink);\n",
              "        }\n",
              "      </script>\n",
              "    </div>\n",
              "  </div>\n",
              "  "
            ]
          },
          "metadata": {},
          "execution_count": 127
        }
      ],
      "source": [
        "data.head() "
      ]
    },
    {
      "cell_type": "code",
      "execution_count": 128,
      "id": "1773f197",
      "metadata": {
        "id": "1773f197"
      },
      "outputs": [],
      "source": [
        "from sklearn.model_selection import train_test_split\n",
        "X_train, X_test, y_train, y_test = train_test_split(x, y, test_size = 0.2, random_state = 3)"
      ]
    },
    {
      "cell_type": "code",
      "execution_count": 129,
      "id": "39fdf0b7",
      "metadata": {
        "id": "39fdf0b7",
        "colab": {
          "base_uri": "https://localhost:8080/",
          "height": 220
        },
        "outputId": "93f3c784-d8a1-4203-f06d-ec0ff4282504"
      },
      "outputs": [
        {
          "output_type": "stream",
          "name": "stderr",
          "text": [
            "/usr/local/lib/python3.10/dist-packages/sklearn/linear_model/_logistic.py:458: ConvergenceWarning: lbfgs failed to converge (status=1):\n",
            "STOP: TOTAL NO. of ITERATIONS REACHED LIMIT.\n",
            "\n",
            "Increase the number of iterations (max_iter) or scale the data as shown in:\n",
            "    https://scikit-learn.org/stable/modules/preprocessing.html\n",
            "Please also refer to the documentation for alternative solver options:\n",
            "    https://scikit-learn.org/stable/modules/linear_model.html#logistic-regression\n",
            "  n_iter_i = _check_optimize_result(\n"
          ]
        },
        {
          "output_type": "execute_result",
          "data": {
            "text/plain": [
              "LogisticRegression(C=1, random_state=3)"
            ],
            "text/html": [
              "<style>#sk-container-id-8 {color: black;background-color: white;}#sk-container-id-8 pre{padding: 0;}#sk-container-id-8 div.sk-toggleable {background-color: white;}#sk-container-id-8 label.sk-toggleable__label {cursor: pointer;display: block;width: 100%;margin-bottom: 0;padding: 0.3em;box-sizing: border-box;text-align: center;}#sk-container-id-8 label.sk-toggleable__label-arrow:before {content: \"▸\";float: left;margin-right: 0.25em;color: #696969;}#sk-container-id-8 label.sk-toggleable__label-arrow:hover:before {color: black;}#sk-container-id-8 div.sk-estimator:hover label.sk-toggleable__label-arrow:before {color: black;}#sk-container-id-8 div.sk-toggleable__content {max-height: 0;max-width: 0;overflow: hidden;text-align: left;background-color: #f0f8ff;}#sk-container-id-8 div.sk-toggleable__content pre {margin: 0.2em;color: black;border-radius: 0.25em;background-color: #f0f8ff;}#sk-container-id-8 input.sk-toggleable__control:checked~div.sk-toggleable__content {max-height: 200px;max-width: 100%;overflow: auto;}#sk-container-id-8 input.sk-toggleable__control:checked~label.sk-toggleable__label-arrow:before {content: \"▾\";}#sk-container-id-8 div.sk-estimator input.sk-toggleable__control:checked~label.sk-toggleable__label {background-color: #d4ebff;}#sk-container-id-8 div.sk-label input.sk-toggleable__control:checked~label.sk-toggleable__label {background-color: #d4ebff;}#sk-container-id-8 input.sk-hidden--visually {border: 0;clip: rect(1px 1px 1px 1px);clip: rect(1px, 1px, 1px, 1px);height: 1px;margin: -1px;overflow: hidden;padding: 0;position: absolute;width: 1px;}#sk-container-id-8 div.sk-estimator {font-family: monospace;background-color: #f0f8ff;border: 1px dotted black;border-radius: 0.25em;box-sizing: border-box;margin-bottom: 0.5em;}#sk-container-id-8 div.sk-estimator:hover {background-color: #d4ebff;}#sk-container-id-8 div.sk-parallel-item::after {content: \"\";width: 100%;border-bottom: 1px solid gray;flex-grow: 1;}#sk-container-id-8 div.sk-label:hover label.sk-toggleable__label {background-color: #d4ebff;}#sk-container-id-8 div.sk-serial::before {content: \"\";position: absolute;border-left: 1px solid gray;box-sizing: border-box;top: 0;bottom: 0;left: 50%;z-index: 0;}#sk-container-id-8 div.sk-serial {display: flex;flex-direction: column;align-items: center;background-color: white;padding-right: 0.2em;padding-left: 0.2em;position: relative;}#sk-container-id-8 div.sk-item {position: relative;z-index: 1;}#sk-container-id-8 div.sk-parallel {display: flex;align-items: stretch;justify-content: center;background-color: white;position: relative;}#sk-container-id-8 div.sk-item::before, #sk-container-id-8 div.sk-parallel-item::before {content: \"\";position: absolute;border-left: 1px solid gray;box-sizing: border-box;top: 0;bottom: 0;left: 50%;z-index: -1;}#sk-container-id-8 div.sk-parallel-item {display: flex;flex-direction: column;z-index: 1;position: relative;background-color: white;}#sk-container-id-8 div.sk-parallel-item:first-child::after {align-self: flex-end;width: 50%;}#sk-container-id-8 div.sk-parallel-item:last-child::after {align-self: flex-start;width: 50%;}#sk-container-id-8 div.sk-parallel-item:only-child::after {width: 0;}#sk-container-id-8 div.sk-dashed-wrapped {border: 1px dashed gray;margin: 0 0.4em 0.5em 0.4em;box-sizing: border-box;padding-bottom: 0.4em;background-color: white;}#sk-container-id-8 div.sk-label label {font-family: monospace;font-weight: bold;display: inline-block;line-height: 1.2em;}#sk-container-id-8 div.sk-label-container {text-align: center;}#sk-container-id-8 div.sk-container {/* jupyter's `normalize.less` sets `[hidden] { display: none; }` but bootstrap.min.css set `[hidden] { display: none !important; }` so we also need the `!important` here to be able to override the default hidden behavior on the sphinx rendered scikit-learn.org. See: https://github.com/scikit-learn/scikit-learn/issues/21755 */display: inline-block !important;position: relative;}#sk-container-id-8 div.sk-text-repr-fallback {display: none;}</style><div id=\"sk-container-id-8\" class=\"sk-top-container\"><div class=\"sk-text-repr-fallback\"><pre>LogisticRegression(C=1, random_state=3)</pre><b>In a Jupyter environment, please rerun this cell to show the HTML representation or trust the notebook. <br />On GitHub, the HTML representation is unable to render, please try loading this page with nbviewer.org.</b></div><div class=\"sk-container\" hidden><div class=\"sk-item\"><div class=\"sk-estimator sk-toggleable\"><input class=\"sk-toggleable__control sk-hidden--visually\" id=\"sk-estimator-id-8\" type=\"checkbox\" checked><label for=\"sk-estimator-id-8\" class=\"sk-toggleable__label sk-toggleable__label-arrow\">LogisticRegression</label><div class=\"sk-toggleable__content\"><pre>LogisticRegression(C=1, random_state=3)</pre></div></div></div></div></div>"
            ]
          },
          "metadata": {},
          "execution_count": 129
        }
      ],
      "source": [
        "from sklearn.linear_model import LogisticRegression\n",
        "classifier = LogisticRegression(solver='lbfgs',C=1,random_state = 3)\n",
        "# hyperparameter=random_state\n",
        "classifier.fit(X_train, y_train)"
      ]
    },
    {
      "cell_type": "code",
      "source": [
        "predict=classifier.predict(X_test)\n",
        "print(predict)"
      ],
      "metadata": {
        "id": "b7wMP4peoLAF",
        "colab": {
          "base_uri": "https://localhost:8080/"
        },
        "outputId": "3fe04b52-a9a4-44b1-e965-f2e62d160cb7"
      },
      "id": "b7wMP4peoLAF",
      "execution_count": 130,
      "outputs": [
        {
          "output_type": "stream",
          "name": "stdout",
          "text": [
            "[0 0 1 1 0 0 1 1 1 0 1 0 0 1 1 0 1 0 1 0 0 0 1 1 0 0 1 1 0 1 1 0 1 0 1 1 0\n",
            " 1 1 0 1 0 1 0 1 0 0 0 1 0 0 0 1]\n"
          ]
        }
      ]
    },
    {
      "cell_type": "code",
      "execution_count": 131,
      "id": "959f1e59",
      "metadata": {
        "scrolled": true,
        "id": "959f1e59",
        "colab": {
          "base_uri": "https://localhost:8080/",
          "height": 467
        },
        "outputId": "8eefc90c-9a4d-4a89-9e11-0c9e7774d310"
      },
      "outputs": [
        {
          "output_type": "execute_result",
          "data": {
            "text/plain": [
              "<sklearn.metrics._plot.confusion_matrix.ConfusionMatrixDisplay at 0x7f0cc6a69330>"
            ]
          },
          "metadata": {},
          "execution_count": 131
        },
        {
          "output_type": "display_data",
          "data": {
            "text/plain": [
              "<Figure size 640x480 with 2 Axes>"
            ],
            "image/png": "[encoded data removed]"
          },
          "metadata": {}
        }
      ],
      "source": [
        "mean_squared_error(y_test,predict)\n",
        "cm = confusion_matrix(y_test, predict, labels=classifier.classes_)\n",
        "disp = ConfusionMatrixDisplay(confusion_matrix=cm,\n",
        "                              display_labels=classifier.classes_)\n",
        "disp.plot()"
      ]
    },
    {
      "cell_type": "code",
      "execution_count": 132,
      "id": "381fe4fd",
      "metadata": {
        "scrolled": true,
        "id": "381fe4fd",
        "colab": {
          "base_uri": "https://localhost:8080/"
        },
        "outputId": "3dbc796e-425f-48f3-bbc0-1463253f6d9a"
      },
      "outputs": [
        {
          "output_type": "stream",
          "name": "stdout",
          "text": [
            "              precision    recall  f1-score   support\n",
            "\n",
            "           0       0.78      0.91      0.84        23\n",
            "           1       0.92      0.80      0.86        30\n",
            "\n",
            "    accuracy                           0.85        53\n",
            "   macro avg       0.85      0.86      0.85        53\n",
            "weighted avg       0.86      0.85      0.85        53\n",
            "\n"
          ]
        }
      ],
      "source": [
        "report=classification_report(y_test,predict)\n",
        "print(report)"
      ]
    },
    {
      "cell_type": "code",
      "execution_count": 133,
      "id": "63c1b5b9",
      "metadata": {
        "id": "63c1b5b9",
        "colab": {
          "base_uri": "https://localhost:8080/"
        },
        "outputId": "208718fa-5780-4e71-9cad-339635434d39"
      },
      "outputs": [
        {
          "output_type": "execute_result",
          "data": {
            "text/plain": [
              "0.8443396226415094"
            ]
          },
          "metadata": {},
          "execution_count": 133
        }
      ],
      "source": [
        "classifier.score(X_train,y_train)"
      ]
    },
    {
      "cell_type": "code",
      "execution_count": 134,
      "id": "4a416655",
      "metadata": {
        "id": "4a416655",
        "colab": {
          "base_uri": "https://localhost:8080/"
        },
        "outputId": "7dc6256d-b23a-4a02-c7d3-6faf9daf5be8"
      },
      "outputs": [
        {
          "output_type": "execute_result",
          "data": {
            "text/plain": [
              "0.8490566037735849"
            ]
          },
          "metadata": {},
          "execution_count": 134
        }
      ],
      "source": [
        "accuracy_score(y_test,predict)"
      ]
    },
    {
      "cell_type": "code",
      "execution_count": 135,
      "id": "cd0dd419",
      "metadata": {
        "id": "cd0dd419",
        "colab": {
          "base_uri": "https://localhost:8080/"
        },
        "outputId": "7d56cf95-5569-4714-8e7a-2d4019e3dae6"
      },
      "outputs": [
        {
          "output_type": "stream",
          "name": "stdout",
          "text": [
            "              precision    recall  f1-score   support\n",
            "\n",
            "           0       0.78      0.91      0.84        23\n",
            "           1       0.92      0.80      0.86        30\n",
            "\n",
            "    accuracy                           0.85        53\n",
            "   macro avg       0.85      0.86      0.85        53\n",
            "weighted avg       0.86      0.85      0.85        53\n",
            "\n"
          ]
        }
      ],
      "source": [
        "report=classification_report(y_test,predict)\n",
        "print(report)"
      ]
    },
    {
      "cell_type": "code",
      "execution_count": 136,
      "id": "f2d51270",
      "metadata": {
        "id": "f2d51270",
        "colab": {
          "base_uri": "https://localhost:8080/",
          "height": 467
        },
        "outputId": "2e9c91ad-da1d-4a79-9a55-2e82af889d0b"
      },
      "outputs": [
        {
          "output_type": "execute_result",
          "data": {
            "text/plain": [
              "<sklearn.metrics._plot.precision_recall_curve.PrecisionRecallDisplay at 0x7f0cc6c0d000>"
            ]
          },
          "metadata": {},
          "execution_count": 136
        },
        {
          "output_type": "display_data",
          "data": {
            "text/plain": [
              "<Figure size 640x480 with 1 Axes>"
            ],
            "image/png": "[encoded data removed]"
          },
          "metadata": {}
        }
      ],
      "source": [
        "precision, recall, _ = precision_recall_curve(y_test, predict)\n",
        ">>> disp = PrecisionRecallDisplay(precision=precision, recall=recall)\n",
        ">>> disp.plot()"
      ]
    },
    {
      "cell_type": "code",
      "execution_count": 137,
      "id": "efdccd5d",
      "metadata": {
        "id": "efdccd5d",
        "colab": {
          "base_uri": "https://localhost:8080/",
          "height": 1000
        },
        "outputId": "218310e4-f053-452f-b3cc-48bb2e19cdf2"
      },
      "outputs": [
        {
          "output_type": "display_data",
          "data": {
            "text/plain": [
              "<Figure size 200x200 with 1 Axes>"
            ],
            "image/png": "[encoded data removed]"
          },
          "metadata": {}
        },
        {
          "output_type": "display_data",
          "data": {
            "text/plain": [
              "<Figure size 200x200 with 1 Axes>"
            ],
            "image/png": "[encoded data removed]"
          },
          "metadata": {}
        },
        {
          "output_type": "display_data",
          "data": {
            "text/plain": [
              "<Figure size 200x200 with 1 Axes>"
            ],
            "image/png": "[encoded data removed]"
          },
          "metadata": {}
        },
        {
          "output_type": "display_data",
          "data": {
            "text/plain": [
              "<Figure size 200x200 with 1 Axes>"
            ],
            "image/png": "[encoded data removed]"
          },
          "metadata": {}
        },
        {
          "output_type": "display_data",
          "data": {
            "text/plain": [
              "<Figure size 200x200 with 1 Axes>"
            ],
            "image/png": "[encoded data removed]"
          },
          "metadata": {}
        },
        {
          "output_type": "display_data",
          "data": {
            "text/plain": [
              "<Figure size 200x200 with 1 Axes>"
            ],
            "image/png": "[encoded data removed]"
          },
          "metadata": {}
        },
        {
          "output_type": "display_data",
          "data": {
            "text/plain": [
              "<Figure size 200x200 with 1 Axes>"
            ],
            "image/png": "[encoded data removed]"
          },
          "metadata": {}
        },
        {
          "output_type": "display_data",
          "data": {
            "text/plain": [
              "<Figure size 200x200 with 1 Axes>"
            ],
            "image/png": "[encoded data removed]"
          },
          "metadata": {}
        },
        {
          "output_type": "display_data",
          "data": {
            "text/plain": [
              "<Figure size 200x200 with 1 Axes>"
            ],
            "image/png": "[encoded data removed]"
          },
          "metadata": {}
        },
        {
          "output_type": "display_data",
          "data": {
            "text/plain": [
              "<Figure size 200x200 with 1 Axes>"
            ],
            "image/png": "[encoded data removed]"
          },
          "metadata": {}
        },
        {
          "output_type": "display_data",
          "data": {
            "text/plain": [
              "<Figure size 200x200 with 1 Axes>"
            ],
            "image/png": "[encoded data removed]"
          },
          "metadata": {}
        },
        {
          "output_type": "display_data",
          "data": {
            "text/plain": [
              "<Figure size 200x200 with 1 Axes>"
            ],
            "image/png": "[encoded data removed]"
          },
          "metadata": {}
        },
        {
          "output_type": "display_data",
          "data": {
            "text/plain": [
              "<Figure size 200x200 with 1 Axes>"
            ],
            "image/png": "[encoded data removed]"
          },
          "metadata": {}
        },
        {
          "output_type": "display_data",
          "data": {
            "text/plain": [
              "<Figure size 200x200 with 1 Axes>"
            ],
            "image/png": "[encoded data removed]"
          },
          "metadata": {}
        }
      ],
      "source": [
        "for col in data.columns:\n",
        " fig=plt.figure(figsize=(2,2))\n",
        " plt.title(col)\n",
        " plt.hist(data[col])"
      ]
    },
    {
      "cell_type": "code",
      "execution_count": 138,
      "id": "49ffb5fe",
      "metadata": {
        "id": "49ffb5fe"
      },
      "outputs": [],
      "source": [
        "from sklearn.model_selection import train_test_split\n",
        "Xt, Xte, yt, y_pred = train_test_split(x, y, test_size = 0.22, random_state = 3)"
      ]
    },
    {
      "cell_type": "code",
      "execution_count": 139,
      "id": "31c17803",
      "metadata": {
        "id": "31c17803",
        "colab": {
          "base_uri": "https://localhost:8080/",
          "height": 74
        },
        "outputId": "8dd4be68-ccca-455b-e647-9007ba8db414"
      },
      "outputs": [
        {
          "output_type": "execute_result",
          "data": {
            "text/plain": [
              "SVC(C=3, kernel='poly', random_state=4)"
            ],
            "text/html": [
              "<style>#sk-container-id-9 {color: black;background-color: white;}#sk-container-id-9 pre{padding: 0;}#sk-container-id-9 div.sk-toggleable {background-color: white;}#sk-container-id-9 label.sk-toggleable__label {cursor: pointer;display: block;width: 100%;margin-bottom: 0;padding: 0.3em;box-sizing: border-box;text-align: center;}#sk-container-id-9 label.sk-toggleable__label-arrow:before {content: \"▸\";float: left;margin-right: 0.25em;color: #696969;}#sk-container-id-9 label.sk-toggleable__label-arrow:hover:before {color: black;}#sk-container-id-9 div.sk-estimator:hover label.sk-toggleable__label-arrow:before {color: black;}#sk-container-id-9 div.sk-toggleable__content {max-height: 0;max-width: 0;overflow: hidden;text-align: left;background-color: #f0f8ff;}#sk-container-id-9 div.sk-toggleable__content pre {margin: 0.2em;color: black;border-radius: 0.25em;background-color: #f0f8ff;}#sk-container-id-9 input.sk-toggleable__control:checked~div.sk-toggleable__content {max-height: 200px;max-width: 100%;overflow: auto;}#sk-container-id-9 input.sk-toggleable__control:checked~label.sk-toggleable__label-arrow:before {content: \"▾\";}#sk-container-id-9 div.sk-estimator input.sk-toggleable__control:checked~label.sk-toggleable__label {background-color: #d4ebff;}#sk-container-id-9 div.sk-label input.sk-toggleable__control:checked~label.sk-toggleable__label {background-color: #d4ebff;}#sk-container-id-9 input.sk-hidden--visually {border: 0;clip: rect(1px 1px 1px 1px);clip: rect(1px, 1px, 1px, 1px);height: 1px;margin: -1px;overflow: hidden;padding: 0;position: absolute;width: 1px;}#sk-container-id-9 div.sk-estimator {font-family: monospace;background-color: #f0f8ff;border: 1px dotted black;border-radius: 0.25em;box-sizing: border-box;margin-bottom: 0.5em;}#sk-container-id-9 div.sk-estimator:hover {background-color: #d4ebff;}#sk-container-id-9 div.sk-parallel-item::after {content: \"\";width: 100%;border-bottom: 1px solid gray;flex-grow: 1;}#sk-container-id-9 div.sk-label:hover label.sk-toggleable__label {background-color: #d4ebff;}#sk-container-id-9 div.sk-serial::before {content: \"\";position: absolute;border-left: 1px solid gray;box-sizing: border-box;top: 0;bottom: 0;left: 50%;z-index: 0;}#sk-container-id-9 div.sk-serial {display: flex;flex-direction: column;align-items: center;background-color: white;padding-right: 0.2em;padding-left: 0.2em;position: relative;}#sk-container-id-9 div.sk-item {position: relative;z-index: 1;}#sk-container-id-9 div.sk-parallel {display: flex;align-items: stretch;justify-content: center;background-color: white;position: relative;}#sk-container-id-9 div.sk-item::before, #sk-container-id-9 div.sk-parallel-item::before {content: \"\";position: absolute;border-left: 1px solid gray;box-sizing: border-box;top: 0;bottom: 0;left: 50%;z-index: -1;}#sk-container-id-9 div.sk-parallel-item {display: flex;flex-direction: column;z-index: 1;position: relative;background-color: white;}#sk-container-id-9 div.sk-parallel-item:first-child::after {align-self: flex-end;width: 50%;}#sk-container-id-9 div.sk-parallel-item:last-child::after {align-self: flex-start;width: 50%;}#sk-container-id-9 div.sk-parallel-item:only-child::after {width: 0;}#sk-container-id-9 div.sk-dashed-wrapped {border: 1px dashed gray;margin: 0 0.4em 0.5em 0.4em;box-sizing: border-box;padding-bottom: 0.4em;background-color: white;}#sk-container-id-9 div.sk-label label {font-family: monospace;font-weight: bold;display: inline-block;line-height: 1.2em;}#sk-container-id-9 div.sk-label-container {text-align: center;}#sk-container-id-9 div.sk-container {/* jupyter's `normalize.less` sets `[hidden] { display: none; }` but bootstrap.min.css set `[hidden] { display: none !important; }` so we also need the `!important` here to be able to override the default hidden behavior on the sphinx rendered scikit-learn.org. See: https://github.com/scikit-learn/scikit-learn/issues/21755 */display: inline-block !important;position: relative;}#sk-container-id-9 div.sk-text-repr-fallback {display: none;}</style><div id=\"sk-container-id-9\" class=\"sk-top-container\"><div class=\"sk-text-repr-fallback\"><pre>SVC(C=3, kernel=&#x27;poly&#x27;, random_state=4)</pre><b>In a Jupyter environment, please rerun this cell to show the HTML representation or trust the notebook. <br />On GitHub, the HTML representation is unable to render, please try loading this page with nbviewer.org.</b></div><div class=\"sk-container\" hidden><div class=\"sk-item\"><div class=\"sk-estimator sk-toggleable\"><input class=\"sk-toggleable__control sk-hidden--visually\" id=\"sk-estimator-id-9\" type=\"checkbox\" checked><label for=\"sk-estimator-id-9\" class=\"sk-toggleable__label sk-toggleable__label-arrow\">SVC</label><div class=\"sk-toggleable__content\"><pre>SVC(C=3, kernel=&#x27;poly&#x27;, random_state=4)</pre></div></div></div></div></div>"
            ]
          },
          "metadata": {},
          "execution_count": 139
        }
      ],
      "source": [
        "from sklearn.svm import SVC\n",
        "classifier = SVC(kernel = 'poly', C=3,random_state = 4)\n",
        "classifier.fit(Xt, yt)"
      ]
    },
    {
      "cell_type": "code",
      "execution_count": 140,
      "id": "fad52a7c",
      "metadata": {
        "id": "fad52a7c",
        "colab": {
          "base_uri": "https://localhost:8080/"
        },
        "outputId": "0b98e45a-fdb1-4fb6-96dc-459ae4799374"
      },
      "outputs": [
        {
          "output_type": "stream",
          "name": "stdout",
          "text": [
            "prediction [0 0 1 1 0 0 1 1 1 0 1 0 0 1 1 0 1 0 1 0 0 0 1 1 0 0 1 1 0 0 1 0 1 0 1 1 0\n",
            " 1 1 0 1 0 0 0 1 0 0 0 1 0 0 0 1 1 0 1 0 0 0]\n"
          ]
        }
      ],
      "source": [
        "pred=classifier.predict(Xte)\n",
        "print(\"prediction\", pred)"
      ]
    },
    {
      "cell_type": "code",
      "execution_count": 141,
      "id": "7e9add75",
      "metadata": {
        "id": "7e9add75",
        "colab": {
          "base_uri": "https://localhost:8080/",
          "height": 467
        },
        "outputId": "647400a7-6552-4575-c3d9-929894cf2479"
      },
      "outputs": [
        {
          "output_type": "execute_result",
          "data": {
            "text/plain": [
              "0.13559322033898305"
            ]
          },
          "metadata": {},
          "execution_count": 141
        },
        {
          "output_type": "display_data",
          "data": {
            "text/plain": [
              "<Figure size 640x480 with 2 Axes>"
            ],
            "image/png": "[encoded data removed]"
          },
          "metadata": {}
        }
      ],
      "source": [
        "cm = confusion_matrix(y_pred, pred, labels=classifier.classes_)\n",
        "disp = ConfusionMatrixDisplay(confusion_matrix=cm,\n",
        "                              display_labels=classifier.classes_)\n",
        "disp.plot()\n",
        "mean_squared_error(y_pred, pred)\n"
      ]
    },
    {
      "cell_type": "code",
      "execution_count": 142,
      "id": "10730453",
      "metadata": {
        "id": "10730453",
        "colab": {
          "base_uri": "https://localhost:8080/"
        },
        "outputId": "a308f955-af75-4f26-ef4b-913d1970fc7e"
      },
      "outputs": [
        {
          "output_type": "stream",
          "name": "stdout",
          "text": [
            "              precision    recall  f1-score   support\n",
            "\n",
            "           0       0.79      0.96      0.87        27\n",
            "           1       0.96      0.78      0.86        32\n",
            "\n",
            "    accuracy                           0.86        59\n",
            "   macro avg       0.87      0.87      0.86        59\n",
            "weighted avg       0.88      0.86      0.86        59\n",
            "\n"
          ]
        }
      ],
      "source": [
        "report=classification_report(y_pred,pred)\n",
        "print(report)"
      ]
    },
    {
      "cell_type": "code",
      "execution_count": 143,
      "id": "8c5937e0",
      "metadata": {
        "id": "8c5937e0",
        "colab": {
          "base_uri": "https://localhost:8080/",
          "height": 467
        },
        "outputId": "9beb80ee-34ac-4b58-b864-56d50e55f9a5"
      },
      "outputs": [
        {
          "output_type": "execute_result",
          "data": {
            "text/plain": [
              "<sklearn.metrics._plot.precision_recall_curve.PrecisionRecallDisplay at 0x7f0cc6a28fd0>"
            ]
          },
          "metadata": {},
          "execution_count": 143
        },
        {
          "output_type": "display_data",
          "data": {
            "text/plain": [
              "<Figure size 640x480 with 1 Axes>"
            ],
            "image/png": "[encoded data removed]"
          },
          "metadata": {}
        }
      ],
      "source": [
        "precision, recall, _ = precision_recall_curve(y_pred, pred)\n",
        ">>> disp = PrecisionRecallDisplay(precision=precision, recall=recall)\n",
        ">>> disp.plot()"
      ]
    },
    {
      "cell_type": "code",
      "execution_count": 144,
      "id": "bd5faef9",
      "metadata": {
        "id": "bd5faef9",
        "colab": {
          "base_uri": "https://localhost:8080/"
        },
        "outputId": "30ba37aa-a9e1-490d-a7c5-b22efb1f7b6d"
      },
      "outputs": [
        {
          "output_type": "execute_result",
          "data": {
            "text/plain": [
              "0.864406779661017"
            ]
          },
          "metadata": {},
          "execution_count": 144
        }
      ],
      "source": [
        "accuracy_score(y_pred,pred)"
      ]
    },
    {
      "cell_type": "code",
      "execution_count": 145,
      "id": "4f19aa9f",
      "metadata": {
        "id": "4f19aa9f",
        "colab": {
          "base_uri": "https://localhost:8080/"
        },
        "outputId": "040b6e06-d81d-4b46-9e46-d183f9de3dea"
      },
      "outputs": [
        {
          "output_type": "execute_result",
          "data": {
            "text/plain": [
              "0.8786407766990292"
            ]
          },
          "metadata": {},
          "execution_count": 145
        }
      ],
      "source": [
        "classifier.score(Xt,yt)"
      ]
    },
    {
      "cell_type": "code",
      "execution_count": 146,
      "id": "a7520680",
      "metadata": {
        "id": "a7520680",
        "colab": {
          "base_uri": "https://localhost:8080/"
        },
        "outputId": "1810e5d7-3818-4a02-bcb8-b7052a598d30"
      },
      "outputs": [
        {
          "output_type": "stream",
          "name": "stdout",
          "text": [
            "              precision    recall  f1-score   support\n",
            "\n",
            "           0       0.79      0.96      0.87        27\n",
            "           1       0.96      0.78      0.86        32\n",
            "\n",
            "    accuracy                           0.86        59\n",
            "   macro avg       0.87      0.87      0.86        59\n",
            "weighted avg       0.88      0.86      0.86        59\n",
            "\n"
          ]
        }
      ],
      "source": [
        "report=classification_report(y_pred,pred)\n",
        "print(report)"
      ]
    },
    {
      "cell_type": "code",
      "execution_count": 147,
      "id": "923b7779",
      "metadata": {
        "scrolled": true,
        "id": "923b7779",
        "colab": {
          "base_uri": "https://localhost:8080/",
          "height": 513
        },
        "outputId": "44c8584f-0e18-48ed-8d06-d154077dae65"
      },
      "outputs": [
        {
          "output_type": "display_data",
          "data": {
            "text/plain": [
              "<Figure size 608.736x500 with 4 Axes>"
            ],
            "image/png": "[encoded data removed]"
          },
          "metadata": {}
        }
      ],
      "source": [
        "sns.pairplot(data,vars=['Max HR', 'Age' ],diag_kind='scatter',hue='Heart Disease',markers=[\"o\",\"s\"])\n",
        "plt.show()"
      ]
    },
    {
      "cell_type": "code",
      "execution_count": 148,
      "id": "750df11c",
      "metadata": {
        "id": "750df11c"
      },
      "outputs": [],
      "source": [
        "from sklearn.model_selection import train_test_split\n",
        "Xdst_train, Xdst_test, ydst_train, ydst_test = train_test_split(x, y, test_size = 0.2, random_state=6)"
      ]
    },
    {
      "cell_type": "code",
      "execution_count": 149,
      "id": "2cd3fc52",
      "metadata": {
        "id": "2cd3fc52",
        "colab": {
          "base_uri": "https://localhost:8080/",
          "height": 92
        },
        "outputId": "dd55ac8d-bc2a-4c6a-906b-938606afa0a0"
      },
      "outputs": [
        {
          "output_type": "execute_result",
          "data": {
            "text/plain": [
              "DecisionTreeClassifier(criterion='entropy', max_depth=4, max_features=3,\n",
              "                       random_state=4)"
            ],
            "text/html": [
              "<style>#sk-container-id-10 {color: black;background-color: white;}#sk-container-id-10 pre{padding: 0;}#sk-container-id-10 div.sk-toggleable {background-color: white;}#sk-container-id-10 label.sk-toggleable__label {cursor: pointer;display: block;width: 100%;margin-bottom: 0;padding: 0.3em;box-sizing: border-box;text-align: center;}#sk-container-id-10 label.sk-toggleable__label-arrow:before {content: \"▸\";float: left;margin-right: 0.25em;color: #696969;}#sk-container-id-10 label.sk-toggleable__label-arrow:hover:before {color: black;}#sk-container-id-10 div.sk-estimator:hover label.sk-toggleable__label-arrow:before {color: black;}#sk-container-id-10 div.sk-toggleable__content {max-height: 0;max-width: 0;overflow: hidden;text-align: left;background-color: #f0f8ff;}#sk-container-id-10 div.sk-toggleable__content pre {margin: 0.2em;color: black;border-radius: 0.25em;background-color: #f0f8ff;}#sk-container-id-10 input.sk-toggleable__control:checked~div.sk-toggleable__content {max-height: 200px;max-width: 100%;overflow: auto;}#sk-container-id-10 input.sk-toggleable__control:checked~label.sk-toggleable__label-arrow:before {content: \"▾\";}#sk-container-id-10 div.sk-estimator input.sk-toggleable__control:checked~label.sk-toggleable__label {background-color: #d4ebff;}#sk-container-id-10 div.sk-label input.sk-toggleable__control:checked~label.sk-toggleable__label {background-color: #d4ebff;}#sk-container-id-10 input.sk-hidden--visually {border: 0;clip: rect(1px 1px 1px 1px);clip: rect(1px, 1px, 1px, 1px);height: 1px;margin: -1px;overflow: hidden;padding: 0;position: absolute;width: 1px;}#sk-container-id-10 div.sk-estimator {font-family: monospace;background-color: #f0f8ff;border: 1px dotted black;border-radius: 0.25em;box-sizing: border-box;margin-bottom: 0.5em;}#sk-container-id-10 div.sk-estimator:hover {background-color: #d4ebff;}#sk-container-id-10 div.sk-parallel-item::after {content: \"\";width: 100%;border-bottom: 1px solid gray;flex-grow: 1;}#sk-container-id-10 div.sk-label:hover label.sk-toggleable__label {background-color: #d4ebff;}#sk-container-id-10 div.sk-serial::before {content: \"\";position: absolute;border-left: 1px solid gray;box-sizing: border-box;top: 0;bottom: 0;left: 50%;z-index: 0;}#sk-container-id-10 div.sk-serial {display: flex;flex-direction: column;align-items: center;background-color: white;padding-right: 0.2em;padding-left: 0.2em;position: relative;}#sk-container-id-10 div.sk-item {position: relative;z-index: 1;}#sk-container-id-10 div.sk-parallel {display: flex;align-items: stretch;justify-content: center;background-color: white;position: relative;}#sk-container-id-10 div.sk-item::before, #sk-container-id-10 div.sk-parallel-item::before {content: \"\";position: absolute;border-left: 1px solid gray;box-sizing: border-box;top: 0;bottom: 0;left: 50%;z-index: -1;}#sk-container-id-10 div.sk-parallel-item {display: flex;flex-direction: column;z-index: 1;position: relative;background-color: white;}#sk-container-id-10 div.sk-parallel-item:first-child::after {align-self: flex-end;width: 50%;}#sk-container-id-10 div.sk-parallel-item:last-child::after {align-self: flex-start;width: 50%;}#sk-container-id-10 div.sk-parallel-item:only-child::after {width: 0;}#sk-container-id-10 div.sk-dashed-wrapped {border: 1px dashed gray;margin: 0 0.4em 0.5em 0.4em;box-sizing: border-box;padding-bottom: 0.4em;background-color: white;}#sk-container-id-10 div.sk-label label {font-family: monospace;font-weight: bold;display: inline-block;line-height: 1.2em;}#sk-container-id-10 div.sk-label-container {text-align: center;}#sk-container-id-10 div.sk-container {/* jupyter's `normalize.less` sets `[hidden] { display: none; }` but bootstrap.min.css set `[hidden] { display: none !important; }` so we also need the `!important` here to be able to override the default hidden behavior on the sphinx rendered scikit-learn.org. See: https://github.com/scikit-learn/scikit-learn/issues/21755 */display: inline-block !important;position: relative;}#sk-container-id-10 div.sk-text-repr-fallback {display: none;}</style><div id=\"sk-container-id-10\" class=\"sk-top-container\"><div class=\"sk-text-repr-fallback\"><pre>DecisionTreeClassifier(criterion=&#x27;entropy&#x27;, max_depth=4, max_features=3,\n",
              "                       random_state=4)</pre><b>In a Jupyter environment, please rerun this cell to show the HTML representation or trust the notebook. <br />On GitHub, the HTML representation is unable to render, please try loading this page with nbviewer.org.</b></div><div class=\"sk-container\" hidden><div class=\"sk-item\"><div class=\"sk-estimator sk-toggleable\"><input class=\"sk-toggleable__control sk-hidden--visually\" id=\"sk-estimator-id-10\" type=\"checkbox\" checked><label for=\"sk-estimator-id-10\" class=\"sk-toggleable__label sk-toggleable__label-arrow\">DecisionTreeClassifier</label><div class=\"sk-toggleable__content\"><pre>DecisionTreeClassifier(criterion=&#x27;entropy&#x27;, max_depth=4, max_features=3,\n",
              "                       random_state=4)</pre></div></div></div></div></div>"
            ]
          },
          "metadata": {},
          "execution_count": 149
        }
      ],
      "source": [
        "from sklearn.tree import DecisionTreeClassifier\n",
        "classifir = DecisionTreeClassifier(criterion = 'entropy',random_state = 4,max_depth=4,max_features=3)\n",
        "classifir.fit(Xdst_train, ydst_train)"
      ]
    },
    {
      "cell_type": "code",
      "execution_count": 150,
      "id": "6a215a54",
      "metadata": {
        "id": "6a215a54",
        "colab": {
          "base_uri": "https://localhost:8080/"
        },
        "outputId": "bd4e95a9-738a-457e-a726-4dd7f86f91b0"
      },
      "outputs": [
        {
          "output_type": "stream",
          "name": "stdout",
          "text": [
            "[0 1 0 1 1 0 0 1 1 0 0 1 0 0 0 0 0 1 0 1 1 1 0 0 1 0 1 1 1 1 1 1 0 1 1 0 1\n",
            " 1 1 0 1 0 0 1 1 0 0 0 1 0 1 1 0]\n"
          ]
        }
      ],
      "source": [
        "ydst_pred = classifir.predict(Xdst_test)\n",
        "print(ydst_pred)"
      ]
    },
    {
      "cell_type": "code",
      "execution_count": 151,
      "id": "a2d74202",
      "metadata": {
        "id": "a2d74202",
        "colab": {
          "base_uri": "https://localhost:8080/",
          "height": 467
        },
        "outputId": "8e4fe7c8-44b5-446e-dbb4-0dbb8bf7ad00"
      },
      "outputs": [
        {
          "output_type": "execute_result",
          "data": {
            "text/plain": [
              "0.16981132075471697"
            ]
          },
          "metadata": {},
          "execution_count": 151
        },
        {
          "output_type": "display_data",
          "data": {
            "text/plain": [
              "<Figure size 640x480 with 2 Axes>"
            ],
            "image/png": "[encoded data removed]"
          },
          "metadata": {}
        }
      ],
      "source": [
        "cm = confusion_matrix(ydst_test, ydst_pred, labels=classifier.classes_)\n",
        "disp = ConfusionMatrixDisplay(confusion_matrix=cm,\n",
        "                              display_labels=classifier.classes_)\n",
        "disp.plot()\n",
        "\n",
        "mean_squared_error(ydst_test, ydst_pred)"
      ]
    },
    {
      "cell_type": "code",
      "execution_count": 152,
      "id": "a608a50a",
      "metadata": {
        "id": "a608a50a",
        "colab": {
          "base_uri": "https://localhost:8080/"
        },
        "outputId": "b37ee5c4-0cf0-4c3a-ebbd-8cea2377b96e"
      },
      "outputs": [
        {
          "output_type": "execute_result",
          "data": {
            "text/plain": [
              "0.8301886792452831"
            ]
          },
          "metadata": {},
          "execution_count": 152
        }
      ],
      "source": [
        "accuracy_score(ydst_test,ydst_pred)"
      ]
    },
    {
      "cell_type": "code",
      "execution_count": 153,
      "id": "d035b838",
      "metadata": {
        "id": "d035b838",
        "colab": {
          "base_uri": "https://localhost:8080/"
        },
        "outputId": "8786eb6b-ec3f-4e81-9745-48bab29cdb8d"
      },
      "outputs": [
        {
          "output_type": "stream",
          "name": "stdout",
          "text": [
            "              precision    recall  f1-score   support\n",
            "\n",
            "           0       0.80      0.83      0.82        24\n",
            "           1       0.86      0.83      0.84        29\n",
            "\n",
            "    accuracy                           0.83        53\n",
            "   macro avg       0.83      0.83      0.83        53\n",
            "weighted avg       0.83      0.83      0.83        53\n",
            "\n"
          ]
        }
      ],
      "source": [
        "report=classification_report(ydst_test,ydst_pred)\n",
        "print(report)"
      ]
    },
    {
      "cell_type": "code",
      "execution_count": 154,
      "id": "5c624ab7",
      "metadata": {
        "id": "5c624ab7",
        "colab": {
          "base_uri": "https://localhost:8080/",
          "height": 467
        },
        "outputId": "3b7b436b-6ad1-4d23-f7bc-d3b9e291c6a7"
      },
      "outputs": [
        {
          "output_type": "execute_result",
          "data": {
            "text/plain": [
              "<sklearn.metrics._plot.precision_recall_curve.PrecisionRecallDisplay at 0x7f0cc694b820>"
            ]
          },
          "metadata": {},
          "execution_count": 154
        },
        {
          "output_type": "display_data",
          "data": {
            "text/plain": [
              "<Figure size 640x480 with 1 Axes>"
            ],
            "image/png": "[encoded data removed]"
          },
          "metadata": {}
        }
      ],
      "source": [
        "precision, recall, _ = precision_recall_curve(ydst_test, ydst_pred)\n",
        ">>> disp = PrecisionRecallDisplay(precision=precision, recall=recall)\n",
        ">>> disp.plot()"
      ]
    },
    {
      "cell_type": "code",
      "execution_count": 155,
      "id": "15058bf1",
      "metadata": {
        "id": "15058bf1",
        "colab": {
          "base_uri": "https://localhost:8080/"
        },
        "outputId": "517eec0d-0a6d-4d01-b3c0-0daf84ae04af"
      },
      "outputs": [
        {
          "output_type": "execute_result",
          "data": {
            "text/plain": [
              "0.8490566037735849"
            ]
          },
          "metadata": {},
          "execution_count": 155
        }
      ],
      "source": [
        "classifir.score(Xdst_train,ydst_train)"
      ]
    },
    {
      "cell_type": "code",
      "execution_count": 156,
      "id": "340f1d54",
      "metadata": {
        "id": "340f1d54"
      },
      "outputs": [],
      "source": [
        "from sklearn.model_selection import train_test_split\n",
        "Xknn_train, Xknn_test, yknn_train, yknn_test = train_test_split(x, y, test_size = 0.2, random_state =3)"
      ]
    },
    {
      "cell_type": "code",
      "execution_count": 157,
      "id": "c5ce10a0",
      "metadata": {
        "id": "c5ce10a0",
        "colab": {
          "base_uri": "https://localhost:8080/",
          "height": 74
        },
        "outputId": "87378dcd-d733-435b-b572-b6941175515f"
      },
      "outputs": [
        {
          "output_type": "execute_result",
          "data": {
            "text/plain": [
              "KNeighborsClassifier(n_neighbors=4, p=1)"
            ],
            "text/html": [
              "<style>#sk-container-id-11 {color: black;background-color: white;}#sk-container-id-11 pre{padding: 0;}#sk-container-id-11 div.sk-toggleable {background-color: white;}#sk-container-id-11 label.sk-toggleable__label {cursor: pointer;display: block;width: 100%;margin-bottom: 0;padding: 0.3em;box-sizing: border-box;text-align: center;}#sk-container-id-11 label.sk-toggleable__label-arrow:before {content: \"▸\";float: left;margin-right: 0.25em;color: #696969;}#sk-container-id-11 label.sk-toggleable__label-arrow:hover:before {color: black;}#sk-container-id-11 div.sk-estimator:hover label.sk-toggleable__label-arrow:before {color: black;}#sk-container-id-11 div.sk-toggleable__content {max-height: 0;max-width: 0;overflow: hidden;text-align: left;background-color: #f0f8ff;}#sk-container-id-11 div.sk-toggleable__content pre {margin: 0.2em;color: black;border-radius: 0.25em;background-color: #f0f8ff;}#sk-container-id-11 input.sk-toggleable__control:checked~div.sk-toggleable__content {max-height: 200px;max-width: 100%;overflow: auto;}#sk-container-id-11 input.sk-toggleable__control:checked~label.sk-toggleable__label-arrow:before {content: \"▾\";}#sk-container-id-11 div.sk-estimator input.sk-toggleable__control:checked~label.sk-toggleable__label {background-color: #d4ebff;}#sk-container-id-11 div.sk-label input.sk-toggleable__control:checked~label.sk-toggleable__label {background-color: #d4ebff;}#sk-container-id-11 input.sk-hidden--visually {border: 0;clip: rect(1px 1px 1px 1px);clip: rect(1px, 1px, 1px, 1px);height: 1px;margin: -1px;overflow: hidden;padding: 0;position: absolute;width: 1px;}#sk-container-id-11 div.sk-estimator {font-family: monospace;background-color: #f0f8ff;border: 1px dotted black;border-radius: 0.25em;box-sizing: border-box;margin-bottom: 0.5em;}#sk-container-id-11 div.sk-estimator:hover {background-color: #d4ebff;}#sk-container-id-11 div.sk-parallel-item::after {content: \"\";width: 100%;border-bottom: 1px solid gray;flex-grow: 1;}#sk-container-id-11 div.sk-label:hover label.sk-toggleable__label {background-color: #d4ebff;}#sk-container-id-11 div.sk-serial::before {content: \"\";position: absolute;border-left: 1px solid gray;box-sizing: border-box;top: 0;bottom: 0;left: 50%;z-index: 0;}#sk-container-id-11 div.sk-serial {display: flex;flex-direction: column;align-items: center;background-color: white;padding-right: 0.2em;padding-left: 0.2em;position: relative;}#sk-container-id-11 div.sk-item {position: relative;z-index: 1;}#sk-container-id-11 div.sk-parallel {display: flex;align-items: stretch;justify-content: center;background-color: white;position: relative;}#sk-container-id-11 div.sk-item::before, #sk-container-id-11 div.sk-parallel-item::before {content: \"\";position: absolute;border-left: 1px solid gray;box-sizing: border-box;top: 0;bottom: 0;left: 50%;z-index: -1;}#sk-container-id-11 div.sk-parallel-item {display: flex;flex-direction: column;z-index: 1;position: relative;background-color: white;}#sk-container-id-11 div.sk-parallel-item:first-child::after {align-self: flex-end;width: 50%;}#sk-container-id-11 div.sk-parallel-item:last-child::after {align-self: flex-start;width: 50%;}#sk-container-id-11 div.sk-parallel-item:only-child::after {width: 0;}#sk-container-id-11 div.sk-dashed-wrapped {border: 1px dashed gray;margin: 0 0.4em 0.5em 0.4em;box-sizing: border-box;padding-bottom: 0.4em;background-color: white;}#sk-container-id-11 div.sk-label label {font-family: monospace;font-weight: bold;display: inline-block;line-height: 1.2em;}#sk-container-id-11 div.sk-label-container {text-align: center;}#sk-container-id-11 div.sk-container {/* jupyter's `normalize.less` sets `[hidden] { display: none; }` but bootstrap.min.css set `[hidden] { display: none !important; }` so we also need the `!important` here to be able to override the default hidden behavior on the sphinx rendered scikit-learn.org. See: https://github.com/scikit-learn/scikit-learn/issues/21755 */display: inline-block !important;position: relative;}#sk-container-id-11 div.sk-text-repr-fallback {display: none;}</style><div id=\"sk-container-id-11\" class=\"sk-top-container\"><div class=\"sk-text-repr-fallback\"><pre>KNeighborsClassifier(n_neighbors=4, p=1)</pre><b>In a Jupyter environment, please rerun this cell to show the HTML representation or trust the notebook. <br />On GitHub, the HTML representation is unable to render, please try loading this page with nbviewer.org.</b></div><div class=\"sk-container\" hidden><div class=\"sk-item\"><div class=\"sk-estimator sk-toggleable\"><input class=\"sk-toggleable__control sk-hidden--visually\" id=\"sk-estimator-id-11\" type=\"checkbox\" checked><label for=\"sk-estimator-id-11\" class=\"sk-toggleable__label sk-toggleable__label-arrow\">KNeighborsClassifier</label><div class=\"sk-toggleable__content\"><pre>KNeighborsClassifier(n_neighbors=4, p=1)</pre></div></div></div></div></div>"
            ]
          },
          "metadata": {},
          "execution_count": 157
        }
      ],
      "source": [
        "from sklearn.neighbors import KNeighborsClassifier\n",
        "classifier = KNeighborsClassifier(n_neighbors =4 , metric = 'minkowski', p = 1)\n",
        "# Power parameter for the Minkowski metric. When p = 1, this is equivalent to using manhattan_distance (l1),\n",
        "classifier.fit(Xknn_train, yknn_train)"
      ]
    },
    {
      "cell_type": "code",
      "execution_count": 158,
      "id": "d280d5fa",
      "metadata": {
        "id": "d280d5fa",
        "colab": {
          "base_uri": "https://localhost:8080/"
        },
        "outputId": "eeeb7b23-7dd2-465b-a3f5-ce347b4114f8"
      },
      "outputs": [
        {
          "output_type": "stream",
          "name": "stdout",
          "text": [
            "[0 0 0 1 0 0 1 1 1 0 1 0 0 1 1 0 1 0 1 1 0 0 1 1 0 0 1 1 0 1 1 0 1 0 1 1 0\n",
            " 1 1 0 1 0 0 0 1 0 1 0 1 0 0 0 1]\n"
          ]
        }
      ],
      "source": [
        "yknn_pred = classifier.predict(Xknn_test)\n",
        "print(yknn_pred)"
      ]
    },
    {
      "cell_type": "code",
      "execution_count": 159,
      "id": "e4a5d081",
      "metadata": {
        "id": "e4a5d081",
        "colab": {
          "base_uri": "https://localhost:8080/",
          "height": 467
        },
        "outputId": "078fdf39-5a50-4f61-cf48-50a1f44c618b"
      },
      "outputs": [
        {
          "output_type": "execute_result",
          "data": {
            "text/plain": [
              "0.8490566037735849"
            ]
          },
          "metadata": {},
          "execution_count": 159
        },
        {
          "output_type": "display_data",
          "data": {
            "text/plain": [
              "<Figure size 640x480 with 2 Axes>"
            ],
            "image/png": "[encoded data removed]"
          },
          "metadata": {}
        }
      ],
      "source": [
        "cm = confusion_matrix(yknn_test, yknn_pred, labels=classifier.classes_)\n",
        "disp = ConfusionMatrixDisplay(confusion_matrix=cm,\n",
        "                              display_labels=classifier.classes_)\n",
        "disp.plot()\n",
        "accuracy_score(yknn_test, yknn_pred)"
      ]
    },
    {
      "cell_type": "code",
      "execution_count": 160,
      "id": "a0f9db9c",
      "metadata": {
        "id": "a0f9db9c",
        "colab": {
          "base_uri": "https://localhost:8080/"
        },
        "outputId": "583d17b1-eb49-4437-eb2a-15cbaac88f36"
      },
      "outputs": [
        {
          "output_type": "execute_result",
          "data": {
            "text/plain": [
              "0.1509433962264151"
            ]
          },
          "metadata": {},
          "execution_count": 160
        }
      ],
      "source": [
        "mean_squared_error(yknn_test, yknn_pred)"
      ]
    },
    {
      "cell_type": "code",
      "execution_count": 161,
      "id": "bb531ee1",
      "metadata": {
        "id": "bb531ee1",
        "colab": {
          "base_uri": "https://localhost:8080/"
        },
        "outputId": "4d156fb4-16bb-45d2-c6fe-5f599bff477c"
      },
      "outputs": [
        {
          "output_type": "execute_result",
          "data": {
            "text/plain": [
              "0.8490566037735849"
            ]
          },
          "metadata": {},
          "execution_count": 161
        }
      ],
      "source": [
        "classifir.score(Xknn_train,yknn_train)\n",
        "# train acurracy"
      ]
    },
    {
      "cell_type": "code",
      "execution_count": 162,
      "id": "182537ee",
      "metadata": {
        "id": "182537ee",
        "colab": {
          "base_uri": "https://localhost:8080/"
        },
        "outputId": "48d924fb-c9b2-4de8-c4ba-c3842258486d"
      },
      "outputs": [
        {
          "output_type": "stream",
          "name": "stdout",
          "text": [
            "              precision    recall  f1-score   support\n",
            "\n",
            "           0       0.78      0.91      0.84        23\n",
            "           1       0.92      0.80      0.86        30\n",
            "\n",
            "    accuracy                           0.85        53\n",
            "   macro avg       0.85      0.86      0.85        53\n",
            "weighted avg       0.86      0.85      0.85        53\n",
            "\n"
          ]
        }
      ],
      "source": [
        "report=classification_report(yknn_test,yknn_pred)\n",
        "print(report)"
      ]
    },
    {
      "cell_type": "code",
      "execution_count": 163,
      "id": "3756560f",
      "metadata": {
        "scrolled": true,
        "id": "3756560f",
        "colab": {
          "base_uri": "https://localhost:8080/",
          "height": 467
        },
        "outputId": "83ffd9b3-6c75-40ef-de59-b6daf28c886c"
      },
      "outputs": [
        {
          "output_type": "execute_result",
          "data": {
            "text/plain": [
              "<sklearn.metrics._plot.precision_recall_curve.PrecisionRecallDisplay at 0x7f0cb4486dd0>"
            ]
          },
          "metadata": {},
          "execution_count": 163
        },
        {
          "output_type": "display_data",
          "data": {
            "text/plain": [
              "<Figure size 640x480 with 1 Axes>"
            ],
            "image/png": "[encoded data removed]"
          },
          "metadata": {}
        }
      ],
      "source": [
        "precision, recall, _ = precision_recall_curve(yknn_test, yknn_pred)\n",
        ">>> disp = PrecisionRecallDisplay(precision=precision, recall=recall)\n",
        ">>> disp.plot()"
      ]
    },
    {
      "cell_type": "code",
      "execution_count": 164,
      "id": "a8f5bbc6",
      "metadata": {
        "id": "a8f5bbc6"
      },
      "outputs": [],
      "source": [
        "from sklearn.model_selection import train_test_split\n",
        "Xrf_train, Xrf_test, yrf_train, yrf_test = train_test_split(x, y, test_size = 0.2, random_state =6 )"
      ]
    },
    {
      "cell_type": "code",
      "execution_count": 165,
      "id": "5f722365",
      "metadata": {
        "id": "5f722365",
        "colab": {
          "base_uri": "https://localhost:8080/",
          "height": 74
        },
        "outputId": "cea4e947-b3f8-48b6-84c6-117cdafa5cfb"
      },
      "outputs": [
        {
          "output_type": "execute_result",
          "data": {
            "text/plain": [
              "RandomForestClassifier(criterion='entropy', max_depth=4, random_state=4)"
            ],
            "text/html": [
              "<style>#sk-container-id-12 {color: black;background-color: white;}#sk-container-id-12 pre{padding: 0;}#sk-container-id-12 div.sk-toggleable {background-color: white;}#sk-container-id-12 label.sk-toggleable__label {cursor: pointer;display: block;width: 100%;margin-bottom: 0;padding: 0.3em;box-sizing: border-box;text-align: center;}#sk-container-id-12 label.sk-toggleable__label-arrow:before {content: \"▸\";float: left;margin-right: 0.25em;color: #696969;}#sk-container-id-12 label.sk-toggleable__label-arrow:hover:before {color: black;}#sk-container-id-12 div.sk-estimator:hover label.sk-toggleable__label-arrow:before {color: black;}#sk-container-id-12 div.sk-toggleable__content {max-height: 0;max-width: 0;overflow: hidden;text-align: left;background-color: #f0f8ff;}#sk-container-id-12 div.sk-toggleable__content pre {margin: 0.2em;color: black;border-radius: 0.25em;background-color: #f0f8ff;}#sk-container-id-12 input.sk-toggleable__control:checked~div.sk-toggleable__content {max-height: 200px;max-width: 100%;overflow: auto;}#sk-container-id-12 input.sk-toggleable__control:checked~label.sk-toggleable__label-arrow:before {content: \"▾\";}#sk-container-id-12 div.sk-estimator input.sk-toggleable__control:checked~label.sk-toggleable__label {background-color: #d4ebff;}#sk-container-id-12 div.sk-label input.sk-toggleable__control:checked~label.sk-toggleable__label {background-color: #d4ebff;}#sk-container-id-12 input.sk-hidden--visually {border: 0;clip: rect(1px 1px 1px 1px);clip: rect(1px, 1px, 1px, 1px);height: 1px;margin: -1px;overflow: hidden;padding: 0;position: absolute;width: 1px;}#sk-container-id-12 div.sk-estimator {font-family: monospace;background-color: #f0f8ff;border: 1px dotted black;border-radius: 0.25em;box-sizing: border-box;margin-bottom: 0.5em;}#sk-container-id-12 div.sk-estimator:hover {background-color: #d4ebff;}#sk-container-id-12 div.sk-parallel-item::after {content: \"\";width: 100%;border-bottom: 1px solid gray;flex-grow: 1;}#sk-container-id-12 div.sk-label:hover label.sk-toggleable__label {background-color: #d4ebff;}#sk-container-id-12 div.sk-serial::before {content: \"\";position: absolute;border-left: 1px solid gray;box-sizing: border-box;top: 0;bottom: 0;left: 50%;z-index: 0;}#sk-container-id-12 div.sk-serial {display: flex;flex-direction: column;align-items: center;background-color: white;padding-right: 0.2em;padding-left: 0.2em;position: relative;}#sk-container-id-12 div.sk-item {position: relative;z-index: 1;}#sk-container-id-12 div.sk-parallel {display: flex;align-items: stretch;justify-content: center;background-color: white;position: relative;}#sk-container-id-12 div.sk-item::before, #sk-container-id-12 div.sk-parallel-item::before {content: \"\";position: absolute;border-left: 1px solid gray;box-sizing: border-box;top: 0;bottom: 0;left: 50%;z-index: -1;}#sk-container-id-12 div.sk-parallel-item {display: flex;flex-direction: column;z-index: 1;position: relative;background-color: white;}#sk-container-id-12 div.sk-parallel-item:first-child::after {align-self: flex-end;width: 50%;}#sk-container-id-12 div.sk-parallel-item:last-child::after {align-self: flex-start;width: 50%;}#sk-container-id-12 div.sk-parallel-item:only-child::after {width: 0;}#sk-container-id-12 div.sk-dashed-wrapped {border: 1px dashed gray;margin: 0 0.4em 0.5em 0.4em;box-sizing: border-box;padding-bottom: 0.4em;background-color: white;}#sk-container-id-12 div.sk-label label {font-family: monospace;font-weight: bold;display: inline-block;line-height: 1.2em;}#sk-container-id-12 div.sk-label-container {text-align: center;}#sk-container-id-12 div.sk-container {/* jupyter's `normalize.less` sets `[hidden] { display: none; }` but bootstrap.min.css set `[hidden] { display: none !important; }` so we also need the `!important` here to be able to override the default hidden behavior on the sphinx rendered scikit-learn.org. See: https://github.com/scikit-learn/scikit-learn/issues/21755 */display: inline-block !important;position: relative;}#sk-container-id-12 div.sk-text-repr-fallback {display: none;}</style><div id=\"sk-container-id-12\" class=\"sk-top-container\"><div class=\"sk-text-repr-fallback\"><pre>RandomForestClassifier(criterion=&#x27;entropy&#x27;, max_depth=4, random_state=4)</pre><b>In a Jupyter environment, please rerun this cell to show the HTML representation or trust the notebook. <br />On GitHub, the HTML representation is unable to render, please try loading this page with nbviewer.org.</b></div><div class=\"sk-container\" hidden><div class=\"sk-item\"><div class=\"sk-estimator sk-toggleable\"><input class=\"sk-toggleable__control sk-hidden--visually\" id=\"sk-estimator-id-12\" type=\"checkbox\" checked><label for=\"sk-estimator-id-12\" class=\"sk-toggleable__label sk-toggleable__label-arrow\">RandomForestClassifier</label><div class=\"sk-toggleable__content\"><pre>RandomForestClassifier(criterion=&#x27;entropy&#x27;, max_depth=4, random_state=4)</pre></div></div></div></div></div>"
            ]
          },
          "metadata": {},
          "execution_count": 165
        }
      ],
      "source": [
        "classifier = RandomForestClassifier(n_estimators = 100, criterion = 'entropy', random_state =4 ,max_depth=4,max_features='sqrt')             \n",
        "classifier.fit(Xrf_train, yrf_train)\n"
      ]
    },
    {
      "cell_type": "code",
      "execution_count": 166,
      "id": "4f84bf14",
      "metadata": {
        "id": "4f84bf14",
        "colab": {
          "base_uri": "https://localhost:8080/"
        },
        "outputId": "a8bdfd02-2e6d-4acc-9d37-fb3ebe27b3c3"
      },
      "outputs": [
        {
          "output_type": "stream",
          "name": "stdout",
          "text": [
            "[0 1 0 1 1 0 0 1 1 0 0 1 1 0 0 0 0 1 0 1 1 1 0 0 0 0 1 0 1 1 1 1 0 1 1 0 1\n",
            " 1 1 0 1 0 0 1 0 0 0 0 1 0 1 1 1]\n"
          ]
        }
      ],
      "source": [
        "yrf_pred = classifier.predict(Xrf_test)\n",
        "print(yrf_pred)"
      ]
    },
    {
      "cell_type": "code",
      "execution_count": 167,
      "id": "882f0847",
      "metadata": {
        "id": "882f0847",
        "colab": {
          "base_uri": "https://localhost:8080/",
          "height": 473
        },
        "outputId": "d4a2fe45-11c2-4fb6-9eed-344bddf86ecc"
      },
      "outputs": [
        {
          "output_type": "execute_result",
          "data": {
            "text/plain": [
              "0.8867924528301887"
            ]
          },
          "metadata": {},
          "execution_count": 167
        },
        {
          "output_type": "display_data",
          "data": {
            "text/plain": [
              "<Figure size 640x480 with 2 Axes>"
            ],
            "image/png": "[encoded data removed]"
          },
          "metadata": {}
        }
      ],
      "source": [
        "cm = confusion_matrix(yrf_test, yrf_pred, labels=classifier.classes_)\n",
        "disp = ConfusionMatrixDisplay(confusion_matrix=cm,\n",
        "                              display_labels=classifier.classes_)\n",
        "disp.plot()\n",
        "accuracy_score(yrf_test, yrf_pred)"
      ]
    },
    {
      "cell_type": "code",
      "execution_count": 168,
      "id": "8c29d35c",
      "metadata": {
        "id": "8c29d35c",
        "colab": {
          "base_uri": "https://localhost:8080/"
        },
        "outputId": "2f6f9473-31c9-4873-8686-f722f1fbfb12"
      },
      "outputs": [
        {
          "output_type": "execute_result",
          "data": {
            "text/plain": [
              "0.11320754716981132"
            ]
          },
          "metadata": {},
          "execution_count": 168
        }
      ],
      "source": [
        "mean_squared_error(yrf_test, yrf_pred)"
      ]
    },
    {
      "cell_type": "code",
      "execution_count": 169,
      "id": "6d5947cd",
      "metadata": {
        "id": "6d5947cd",
        "colab": {
          "base_uri": "https://localhost:8080/"
        },
        "outputId": "1f528158-8e77-49d5-fa9e-766aae0f4e08"
      },
      "outputs": [
        {
          "output_type": "execute_result",
          "data": {
            "text/plain": [
              "0.8490566037735849"
            ]
          },
          "metadata": {},
          "execution_count": 169
        }
      ],
      "source": [
        "classifir.score(Xrf_train,yrf_train)"
      ]
    },
    {
      "cell_type": "code",
      "execution_count": 170,
      "id": "f17cecf1",
      "metadata": {
        "id": "f17cecf1",
        "colab": {
          "base_uri": "https://localhost:8080/"
        },
        "outputId": "46f7e6e7-ca9f-4585-e710-e17b57a3ca07"
      },
      "outputs": [
        {
          "output_type": "stream",
          "name": "stdout",
          "text": [
            "              precision    recall  f1-score   support\n",
            "\n",
            "           0       0.85      0.92      0.88        24\n",
            "           1       0.93      0.86      0.89        29\n",
            "\n",
            "    accuracy                           0.89        53\n",
            "   macro avg       0.89      0.89      0.89        53\n",
            "weighted avg       0.89      0.89      0.89        53\n",
            "\n"
          ]
        }
      ],
      "source": [
        "report=classification_report(yrf_test,yrf_pred)\n",
        "print(report)"
      ]
    },
    {
      "cell_type": "code",
      "execution_count": 171,
      "id": "893ca106",
      "metadata": {
        "id": "893ca106",
        "colab": {
          "base_uri": "https://localhost:8080/",
          "height": 467
        },
        "outputId": "4e5d4cf0-5f80-4bc8-af65-ba2fb6277d5b"
      },
      "outputs": [
        {
          "output_type": "execute_result",
          "data": {
            "text/plain": [
              "<sklearn.metrics._plot.precision_recall_curve.PrecisionRecallDisplay at 0x7f0cb4399ba0>"
            ]
          },
          "metadata": {},
          "execution_count": 171
        },
        {
          "output_type": "display_data",
          "data": {
            "text/plain": [
              "<Figure size 640x480 with 1 Axes>"
            ],
            "image/png": "[encoded data removed]"
          },
          "metadata": {}
        }
      ],
      "source": [
        "precision, recall, _ = precision_recall_curve(yrf_test, yrf_pred)\n",
        ">>> disp = PrecisionRecallDisplay(precision=precision, recall=recall)\n",
        ">>> disp.plot()"
      ]
    },
    {
      "cell_type": "code",
      "execution_count": 182,
      "id": "e3f6524b",
      "metadata": {
        "id": "e3f6524b",
        "colab": {
          "base_uri": "https://localhost:8080/"
        },
        "outputId": "1b468c28-fa83-4051-d2b6-8ccd45fd8a2d"
      },
      "outputs": [
        {
          "output_type": "stream",
          "name": "stdout",
          "text": [
            "      Age  Chest pain type  Cholesterol  EKG results  Max HR  Exercise angina  \\\n",
            "0    70.0                4          322            2     109                0   \n",
            "2    57.0                2          261            0     141                0   \n",
            "3    64.0                4          263            0     105                1   \n",
            "4    74.0                2          269            2     121                1   \n",
            "5    65.0                4          177            0     140                0   \n",
            "..    ...              ...          ...          ...     ...              ...   \n",
            "265  52.0                3          199            0     162                0   \n",
            "266  44.0                2          263            0     173                0   \n",
            "267  56.0                2          294            2     153                0   \n",
            "268  57.0                4          192            0     148                0   \n",
            "269  67.0                4          286            2     108                1   \n",
            "\n",
            "     ST depression  Slope of ST  Number of vessels fluro  Thallium  \\\n",
            "0              2.4            2                        3         3   \n",
            "2              0.3            1                        0         7   \n",
            "3              0.2            2                        1         7   \n",
            "4              0.2            1                        1         3   \n",
            "5              0.4            1                        0         7   \n",
            "..             ...          ...                      ...       ...   \n",
            "265            0.5            1                        0         7   \n",
            "266            0.0            1                        0         7   \n",
            "267            1.3            2                        0         3   \n",
            "268            0.4            2                        0         6   \n",
            "269            1.5            2                        3         3   \n",
            "\n",
            "     Heart Disease  work_type_Govt_job  Gender_Female  Gender_Male  \n",
            "0                1                   0              1            0  \n",
            "2                1                   0              1            0  \n",
            "3                0                   0              1            0  \n",
            "4                0                   0              0            1  \n",
            "5                0                   0              1            0  \n",
            "..             ...                 ...            ...          ...  \n",
            "265              0                   0              1            0  \n",
            "266              0                   0              1            0  \n",
            "267              0                   1              0            1  \n",
            "268              0                   0              1            0  \n",
            "269              1                   0              1            0  \n",
            "\n",
            "[265 rows x 14 columns]\n"
          ]
        }
      ],
      "source": [
        "print(data)"
      ]
    },
    {
      "cell_type": "code",
      "execution_count": 173,
      "id": "af33389d",
      "metadata": {
        "id": "af33389d",
        "colab": {
          "base_uri": "https://localhost:8080/",
          "height": 225
        },
        "outputId": "ef453b8f-8212-4fe5-9e77-9f94bfe3d540"
      },
      "outputs": [
        {
          "output_type": "execute_result",
          "data": {
            "text/plain": [
              "    Age  Chest pain type  Cholesterol  EKG results  Max HR  Exercise angina  \\\n",
              "0  70.0                4          322            2     109                0   \n",
              "2  57.0                2          261            0     141                0   \n",
              "3  64.0                4          263            0     105                1   \n",
              "4  74.0                2          269            2     121                1   \n",
              "5  65.0                4          177            0     140                0   \n",
              "\n",
              "   ST depression  Slope of ST  Number of vessels fluro  Thallium  \\\n",
              "0            2.4            2                        3         3   \n",
              "2            0.3            1                        0         7   \n",
              "3            0.2            2                        1         7   \n",
              "4            0.2            1                        1         3   \n",
              "5            0.4            1                        0         7   \n",
              "\n",
              "   Heart Disease  work_type_Govt_job  Gender_Female  Gender_Male  \n",
              "0              1                   0              1            0  \n",
              "2              1                   0              1            0  \n",
              "3              0                   0              1            0  \n",
              "4              0                   0              0            1  \n",
              "5              0                   0              1            0  "
            ],
            "text/html": [
              "\n",
              "  <div id=\"df-2deb027a-7778-4797-89e4-301fec9df244\">\n",
              "    <div class=\"colab-df-container\">\n",
              "      <div>\n",
              "<style scoped>\n",
              "    .dataframe tbody tr th:only-of-type {\n",
              "        vertical-align: middle;\n",
              "    }\n",
              "\n",
              "    .dataframe tbody tr th {\n",
              "        vertical-align: top;\n",
              "    }\n",
              "\n",
              "    .dataframe thead th {\n",
              "        text-align: right;\n",
              "    }\n",
              "</style>\n",
              "<table border=\"1\" class=\"dataframe\">\n",
              "  <thead>\n",
              "    <tr style=\"text-align: right;\">\n",
              "      <th></th>\n",
              "      <th>Age</th>\n",
              "      <th>Chest pain type</th>\n",
              "      <th>Cholesterol</th>\n",
              "      <th>EKG results</th>\n",
              "      <th>Max HR</th>\n",
              "      <th>Exercise angina</th>\n",
              "      <th>ST depression</th>\n",
              "      <th>Slope of ST</th>\n",
              "      <th>Number of vessels fluro</th>\n",
              "      <th>Thallium</th>\n",
              "      <th>Heart Disease</th>\n",
              "      <th>work_type_Govt_job</th>\n",
              "      <th>Gender_Female</th>\n",
              "      <th>Gender_Male</th>\n",
              "    </tr>\n",
              "  </thead>\n",
              "  <tbody>\n",
              "    <tr>\n",
              "      <th>0</th>\n",
              "      <td>70.0</td>\n",
              "      <td>4</td>\n",
              "      <td>322</td>\n",
              "      <td>2</td>\n",
              "      <td>109</td>\n",
              "      <td>0</td>\n",
              "      <td>2.4</td>\n",
              "      <td>2</td>\n",
              "      <td>3</td>\n",
              "      <td>3</td>\n",
              "      <td>1</td>\n",
              "      <td>0</td>\n",
              "      <td>1</td>\n",
              "      <td>0</td>\n",
              "    </tr>\n",
              "    <tr>\n",
              "      <th>2</th>\n",
              "      <td>57.0</td>\n",
              "      <td>2</td>\n",
              "      <td>261</td>\n",
              "      <td>0</td>\n",
              "      <td>141</td>\n",
              "      <td>0</td>\n",
              "      <td>0.3</td>\n",
              "      <td>1</td>\n",
              "      <td>0</td>\n",
              "      <td>7</td>\n",
              "      <td>1</td>\n",
              "      <td>0</td>\n",
              "      <td>1</td>\n",
              "      <td>0</td>\n",
              "    </tr>\n",
              "    <tr>\n",
              "      <th>3</th>\n",
              "      <td>64.0</td>\n",
              "      <td>4</td>\n",
              "      <td>263</td>\n",
              "      <td>0</td>\n",
              "      <td>105</td>\n",
              "      <td>1</td>\n",
              "      <td>0.2</td>\n",
              "      <td>2</td>\n",
              "      <td>1</td>\n",
              "      <td>7</td>\n",
              "      <td>0</td>\n",
              "      <td>0</td>\n",
              "      <td>1</td>\n",
              "      <td>0</td>\n",
              "    </tr>\n",
              "    <tr>\n",
              "      <th>4</th>\n",
              "      <td>74.0</td>\n",
              "      <td>2</td>\n",
              "      <td>269</td>\n",
              "      <td>2</td>\n",
              "      <td>121</td>\n",
              "      <td>1</td>\n",
              "      <td>0.2</td>\n",
              "      <td>1</td>\n",
              "      <td>1</td>\n",
              "      <td>3</td>\n",
              "      <td>0</td>\n",
              "      <td>0</td>\n",
              "      <td>0</td>\n",
              "      <td>1</td>\n",
              "    </tr>\n",
              "    <tr>\n",
              "      <th>5</th>\n",
              "      <td>65.0</td>\n",
              "      <td>4</td>\n",
              "      <td>177</td>\n",
              "      <td>0</td>\n",
              "      <td>140</td>\n",
              "      <td>0</td>\n",
              "      <td>0.4</td>\n",
              "      <td>1</td>\n",
              "      <td>0</td>\n",
              "      <td>7</td>\n",
              "      <td>0</td>\n",
              "      <td>0</td>\n",
              "      <td>1</td>\n",
              "      <td>0</td>\n",
              "    </tr>\n",
              "  </tbody>\n",
              "</table>\n",
              "</div>\n",
              "      <button class=\"colab-df-convert\" onclick=\"convertToInteractive('df-2deb027a-7778-4797-89e4-301fec9df244')\"\n",
              "              title=\"Convert this dataframe to an interactive table.\"\n",
              "              style=\"display:none;\">\n",
              "        \n",
              "  <svg xmlns=\"http://www.w3.org/2000/svg\" height=\"24px\"viewBox=\"0 0 24 24\"\n",
              "       width=\"24px\">\n",
              "    <path d=\"M0 0h24v24H0V0z\" fill=\"none\"/>\n",
              "    <path d=\"M18.56 5.44l.94 2.06.94-2.06 2.06-.94-2.06-.94-.94-2.06-.94 2.06-2.06.94zm-11 1L8.5 8.5l.94-2.06 2.06-.94-2.06-.94L8.5 2.5l-.94 2.06-2.06.94zm10 10l.94 2.06.94-2.06 2.06-.94-2.06-.94-.94-2.06-.94 2.06-2.06.94z\"/><path d=\"M17.41 7.96l-1.37-1.37c-.4-.4-.92-.59-1.43-.59-.52 0-1.04.2-1.43.59L10.3 9.45l-7.72 7.72c-.78.78-.78 2.05 0 2.83L4 21.41c.39.39.9.59 1.41.59.51 0 1.02-.2 1.41-.59l7.78-7.78 2.81-2.81c.8-.78.8-2.07 0-2.86zM5.41 20L4 18.59l7.72-7.72 1.47 1.35L5.41 20z\"/>\n",
              "  </svg>\n",
              "      </button>\n",
              "      \n",
              "  <style>\n",
              "    .colab-df-container {\n",
              "      display:flex;\n",
              "      flex-wrap:wrap;\n",
              "      gap: 12px;\n",
              "    }\n",
              "\n",
              "    .colab-df-convert {\n",
              "      background-color: #E8F0FE;\n",
              "      border: none;\n",
              "      border-radius: 50%;\n",
              "      cursor: pointer;\n",
              "      display: none;\n",
              "      fill: #1967D2;\n",
              "      height: 32px;\n",
              "      padding: 0 0 0 0;\n",
              "      width: 32px;\n",
              "    }\n",
              "\n",
              "    .colab-df-convert:hover {\n",
              "      background-color: #E2EBFA;\n",
              "      box-shadow: 0px 1px 2px rgba(60, 64, 67, 0.3), 0px 1px 3px 1px rgba(60, 64, 67, 0.15);\n",
              "      fill: #174EA6;\n",
              "    }\n",
              "\n",
              "    [theme=dark] .colab-df-convert {\n",
              "      background-color: #3B4455;\n",
              "      fill: #D2E3FC;\n",
              "    }\n",
              "\n",
              "    [theme=dark] .colab-df-convert:hover {\n",
              "      background-color: #434B5C;\n",
              "      box-shadow: 0px 1px 3px 1px rgba(0, 0, 0, 0.15);\n",
              "      filter: drop-shadow(0px 1px 2px rgba(0, 0, 0, 0.3));\n",
              "      fill: #FFFFFF;\n",
              "    }\n",
              "  </style>\n",
              "\n",
              "      <script>\n",
              "        const buttonEl =\n",
              "          document.querySelector('#df-2deb027a-7778-4797-89e4-301fec9df244 button.colab-df-convert');\n",
              "        buttonEl.style.display =\n",
              "          google.colab.kernel.accessAllowed ? 'block' : 'none';\n",
              "\n",
              "        async function convertToInteractive(key) {\n",
              "          const element = document.querySelector('#df-2deb027a-7778-4797-89e4-301fec9df244');\n",
              "          const dataTable =\n",
              "            await google.colab.kernel.invokeFunction('convertToInteractive',\n",
              "                                                     [key], {});\n",
              "          if (!dataTable) return;\n",
              "\n",
              "          const docLinkHtml = 'Like what you see? Visit the ' +\n",
              "            '<a target=\"_blank\" href=https://colab.research.google.com/notebooks/data_table.ipynb>data table notebook</a>'\n",
              "            + ' to learn more about interactive tables.';\n",
              "          element.innerHTML = '';\n",
              "          dataTable['output_type'] = 'display_data';\n",
              "          await google.colab.output.renderOutput(dataTable, element);\n",
              "          const docLink = document.createElement('div');\n",
              "          docLink.innerHTML = docLinkHtml;\n",
              "          element.appendChild(docLink);\n",
              "        }\n",
              "      </script>\n",
              "    </div>\n",
              "  </div>\n",
              "  "
            ]
          },
          "metadata": {},
          "execution_count": 173
        }
      ],
      "source": [
        "data.head()"
      ]
    },
    {
      "cell_type": "code",
      "execution_count": 174,
      "id": "e4bbaf17",
      "metadata": {
        "id": "e4bbaf17",
        "colab": {
          "base_uri": "https://localhost:8080/"
        },
        "outputId": "c5efa50a-7e47-4e4a-a153-0040c1bb74aa"
      },
      "outputs": [
        {
          "output_type": "stream",
          "name": "stdout",
          "text": [
            "Looking in indexes: https://pypi.org/simple, https://us-python.pkg.dev/colab-wheels/public/simple/\n",
            "Requirement already satisfied: xgboost in /usr/local/lib/python3.10/dist-packages (1.7.5)\n",
            "Requirement already satisfied: numpy in /usr/local/lib/python3.10/dist-packages (from xgboost) (1.22.4)\n",
            "Requirement already satisfied: scipy in /usr/local/lib/python3.10/dist-packages (from xgboost) (1.10.1)\n"
          ]
        }
      ],
      "source": [
        "! pip3 install xgboost"
      ]
    },
    {
      "cell_type": "code",
      "execution_count": 175,
      "id": "7bd1d039",
      "metadata": {
        "id": "7bd1d039"
      },
      "outputs": [],
      "source": [
        "from sklearn.model_selection import train_test_split\n",
        "Xgb_train, Xgb_test, ygb_train, ygb_test = train_test_split(x, y, test_size = 0.3, random_state =4 )"
      ]
    },
    {
      "cell_type": "code",
      "execution_count": 176,
      "id": "3138cc2c",
      "metadata": {
        "id": "3138cc2c",
        "colab": {
          "base_uri": "https://localhost:8080/",
          "height": 248
        },
        "outputId": "cc6fb310-55ba-45d5-ec84-7aec594ccda6"
      },
      "outputs": [
        {
          "output_type": "execute_result",
          "data": {
            "text/plain": [
              "XGBClassifier(base_score=None, booster=None, callbacks=None,\n",
              "              colsample_bylevel=None, colsample_bynode=None,\n",
              "              colsample_bytree=None, early_stopping_rounds=None,\n",
              "              enable_categorical=False, eta=0.03, eval_metric=None,\n",
              "              feature_types=None, gamma=None, gpu_id=None, grow_policy=None,\n",
              "              importance_type=None, interaction_constraints=None,\n",
              "              learning_rate=None, max_bin=None, max_cat_threshold=None,\n",
              "              max_cat_to_onehot=None, max_delta_step=None, max_depth=3,\n",
              "              max_leaves=None, min_child_weight=None, missing=nan,\n",
              "              monotone_constraints=None, n_estimators=100, n_jobs=None,\n",
              "              num_parallel_tree=None, predictor=None, ...)"
            ],
            "text/html": [
              "<style>#sk-container-id-13 {color: black;background-color: white;}#sk-container-id-13 pre{padding: 0;}#sk-container-id-13 div.sk-toggleable {background-color: white;}#sk-container-id-13 label.sk-toggleable__label {cursor: pointer;display: block;width: 100%;margin-bottom: 0;padding: 0.3em;box-sizing: border-box;text-align: center;}#sk-container-id-13 label.sk-toggleable__label-arrow:before {content: \"▸\";float: left;margin-right: 0.25em;color: #696969;}#sk-container-id-13 label.sk-toggleable__label-arrow:hover:before {color: black;}#sk-container-id-13 div.sk-estimator:hover label.sk-toggleable__label-arrow:before {color: black;}#sk-container-id-13 div.sk-toggleable__content {max-height: 0;max-width: 0;overflow: hidden;text-align: left;background-color: #f0f8ff;}#sk-container-id-13 div.sk-toggleable__content pre {margin: 0.2em;color: black;border-radius: 0.25em;background-color: #f0f8ff;}#sk-container-id-13 input.sk-toggleable__control:checked~div.sk-toggleable__content {max-height: 200px;max-width: 100%;overflow: auto;}#sk-container-id-13 input.sk-toggleable__control:checked~label.sk-toggleable__label-arrow:before {content: \"▾\";}#sk-container-id-13 div.sk-estimator input.sk-toggleable__control:checked~label.sk-toggleable__label {background-color: #d4ebff;}#sk-container-id-13 div.sk-label input.sk-toggleable__control:checked~label.sk-toggleable__label {background-color: #d4ebff;}#sk-container-id-13 input.sk-hidden--visually {border: 0;clip: rect(1px 1px 1px 1px);clip: rect(1px, 1px, 1px, 1px);height: 1px;margin: -1px;overflow: hidden;padding: 0;position: absolute;width: 1px;}#sk-container-id-13 div.sk-estimator {font-family: monospace;background-color: #f0f8ff;border: 1px dotted black;border-radius: 0.25em;box-sizing: border-box;margin-bottom: 0.5em;}#sk-container-id-13 div.sk-estimator:hover {background-color: #d4ebff;}#sk-container-id-13 div.sk-parallel-item::after {content: \"\";width: 100%;border-bottom: 1px solid gray;flex-grow: 1;}#sk-container-id-13 div.sk-label:hover label.sk-toggleable__label {background-color: #d4ebff;}#sk-container-id-13 div.sk-serial::before {content: \"\";position: absolute;border-left: 1px solid gray;box-sizing: border-box;top: 0;bottom: 0;left: 50%;z-index: 0;}#sk-container-id-13 div.sk-serial {display: flex;flex-direction: column;align-items: center;background-color: white;padding-right: 0.2em;padding-left: 0.2em;position: relative;}#sk-container-id-13 div.sk-item {position: relative;z-index: 1;}#sk-container-id-13 div.sk-parallel {display: flex;align-items: stretch;justify-content: center;background-color: white;position: relative;}#sk-container-id-13 div.sk-item::before, #sk-container-id-13 div.sk-parallel-item::before {content: \"\";position: absolute;border-left: 1px solid gray;box-sizing: border-box;top: 0;bottom: 0;left: 50%;z-index: -1;}#sk-container-id-13 div.sk-parallel-item {display: flex;flex-direction: column;z-index: 1;position: relative;background-color: white;}#sk-container-id-13 div.sk-parallel-item:first-child::after {align-self: flex-end;width: 50%;}#sk-container-id-13 div.sk-parallel-item:last-child::after {align-self: flex-start;width: 50%;}#sk-container-id-13 div.sk-parallel-item:only-child::after {width: 0;}#sk-container-id-13 div.sk-dashed-wrapped {border: 1px dashed gray;margin: 0 0.4em 0.5em 0.4em;box-sizing: border-box;padding-bottom: 0.4em;background-color: white;}#sk-container-id-13 div.sk-label label {font-family: monospace;font-weight: bold;display: inline-block;line-height: 1.2em;}#sk-container-id-13 div.sk-label-container {text-align: center;}#sk-container-id-13 div.sk-container {/* jupyter's `normalize.less` sets `[hidden] { display: none; }` but bootstrap.min.css set `[hidden] { display: none !important; }` so we also need the `!important` here to be able to override the default hidden behavior on the sphinx rendered scikit-learn.org. See: https://github.com/scikit-learn/scikit-learn/issues/21755 */display: inline-block !important;position: relative;}#sk-container-id-13 div.sk-text-repr-fallback {display: none;}</style><div id=\"sk-container-id-13\" class=\"sk-top-container\"><div class=\"sk-text-repr-fallback\"><pre>XGBClassifier(base_score=None, booster=None, callbacks=None,\n",
              "              colsample_bylevel=None, colsample_bynode=None,\n",
              "              colsample_bytree=None, early_stopping_rounds=None,\n",
              "              enable_categorical=False, eta=0.03, eval_metric=None,\n",
              "              feature_types=None, gamma=None, gpu_id=None, grow_policy=None,\n",
              "              importance_type=None, interaction_constraints=None,\n",
              "              learning_rate=None, max_bin=None, max_cat_threshold=None,\n",
              "              max_cat_to_onehot=None, max_delta_step=None, max_depth=3,\n",
              "              max_leaves=None, min_child_weight=None, missing=nan,\n",
              "              monotone_constraints=None, n_estimators=100, n_jobs=None,\n",
              "              num_parallel_tree=None, predictor=None, ...)</pre><b>In a Jupyter environment, please rerun this cell to show the HTML representation or trust the notebook. <br />On GitHub, the HTML representation is unable to render, please try loading this page with nbviewer.org.</b></div><div class=\"sk-container\" hidden><div class=\"sk-item\"><div class=\"sk-estimator sk-toggleable\"><input class=\"sk-toggleable__control sk-hidden--visually\" id=\"sk-estimator-id-13\" type=\"checkbox\" checked><label for=\"sk-estimator-id-13\" class=\"sk-toggleable__label sk-toggleable__label-arrow\">XGBClassifier</label><div class=\"sk-toggleable__content\"><pre>XGBClassifier(base_score=None, booster=None, callbacks=None,\n",
              "              colsample_bylevel=None, colsample_bynode=None,\n",
              "              colsample_bytree=None, early_stopping_rounds=None,\n",
              "              enable_categorical=False, eta=0.03, eval_metric=None,\n",
              "              feature_types=None, gamma=None, gpu_id=None, grow_policy=None,\n",
              "              importance_type=None, interaction_constraints=None,\n",
              "              learning_rate=None, max_bin=None, max_cat_threshold=None,\n",
              "              max_cat_to_onehot=None, max_delta_step=None, max_depth=3,\n",
              "              max_leaves=None, min_child_weight=None, missing=nan,\n",
              "              monotone_constraints=None, n_estimators=100, n_jobs=None,\n",
              "              num_parallel_tree=None, predictor=None, ...)</pre></div></div></div></div></div>"
            ]
          },
          "metadata": {},
          "execution_count": 176
        }
      ],
      "source": [
        "import xgboost as xgb\n",
        "classifier = xgb.XGBClassifier(n_estimators=100, objective='binary:logistic', tree_method='auto', eta=0.03, max_depth=3)\n",
        "classifier.fit(Xgb_train, ygb_train)"
      ]
    },
    {
      "cell_type": "code",
      "execution_count": 177,
      "id": "5bc03bed",
      "metadata": {
        "id": "5bc03bed",
        "colab": {
          "base_uri": "https://localhost:8080/"
        },
        "outputId": "076b8d07-0b93-42ed-9f29-e39cdf90257b"
      },
      "outputs": [
        {
          "output_type": "stream",
          "name": "stdout",
          "text": [
            "[0 1 1 1 1 1 1 0 0 1 1 0 0 1 0 0 0 0 0 1 0 1 0 1 0 1 0 0 1 0 1 1 0 0 0 1 0\n",
            " 0 1 0 1 0 1 0 0 0 1 0 1 1 0 0 1 0 0 0 0 0 1 1 0 0 0 0 1 0 0 1 0 1 0 1 0 1\n",
            " 1 1 0 1 1 1]\n"
          ]
        }
      ],
      "source": [
        "ygb_pred = classifier.predict(Xgb_test)\n",
        "print(ygb_pred)"
      ]
    },
    {
      "cell_type": "code",
      "execution_count": 178,
      "id": "3bb6989b",
      "metadata": {
        "id": "3bb6989b",
        "colab": {
          "base_uri": "https://localhost:8080/",
          "height": 485
        },
        "outputId": "ee5ad39c-b44f-4bc1-fac2-419b19f2d272"
      },
      "outputs": [
        {
          "output_type": "stream",
          "name": "stdout",
          "text": [
            "testing accuracy = 0.8625\n",
            "training accuracy = 0.8486486486486486\n"
          ]
        },
        {
          "output_type": "display_data",
          "data": {
            "text/plain": [
              "<Figure size 640x480 with 2 Axes>"
            ],
            "image/png": "[encoded data removed]"
          },
          "metadata": {}
        }
      ],
      "source": [
        "cm = confusion_matrix(ygb_test, ygb_pred, labels=classifier.classes_)\n",
        "disp = ConfusionMatrixDisplay(confusion_matrix=cm,\n",
        "                              display_labels=classifier.classes_)\n",
        "disp.plot()\n",
        "print(\"testing accuracy =\",accuracy_score(ygb_test, ygb_pred))\n",
        "print(\"training accuracy =\",classifir.score(Xgb_train,ygb_train))"
      ]
    },
    {
      "cell_type": "code",
      "execution_count": 179,
      "id": "7b29d9a1",
      "metadata": {
        "id": "7b29d9a1",
        "colab": {
          "base_uri": "https://localhost:8080/"
        },
        "outputId": "01aeeb08-0bf9-42a9-e802-7eaa388ae9df"
      },
      "outputs": [
        {
          "output_type": "stream",
          "name": "stdout",
          "text": [
            "              precision    recall  f1-score   support\n",
            "\n",
            "           0       0.82      0.92      0.87        39\n",
            "           1       0.92      0.80      0.86        41\n",
            "\n",
            "    accuracy                           0.86        80\n",
            "   macro avg       0.87      0.86      0.86        80\n",
            "weighted avg       0.87      0.86      0.86        80\n",
            "\n"
          ]
        }
      ],
      "source": [
        "report=classification_report(ygb_test,ygb_pred)\n",
        "print(report)"
      ]
    },
    {
      "cell_type": "code",
      "execution_count": 180,
      "id": "9365f5c2",
      "metadata": {
        "id": "9365f5c2",
        "colab": {
          "base_uri": "https://localhost:8080/",
          "height": 467
        },
        "outputId": "ff43af7d-4da0-4966-cb52-b65f407bf380"
      },
      "outputs": [
        {
          "output_type": "execute_result",
          "data": {
            "text/plain": [
              "<sklearn.metrics._plot.precision_recall_curve.PrecisionRecallDisplay at 0x7f0cb40dbbb0>"
            ]
          },
          "metadata": {},
          "execution_count": 180
        },
        {
          "output_type": "display_data",
          "data": {
            "text/plain": [
              "<Figure size 640x480 with 1 Axes>"
            ],
            "image/png": "[encoded data removed]"
          },
          "metadata": {}
        }
      ],
      "source": [
        "precision, recall, _ = precision_recall_curve(ygb_test, ygb_pred)\n",
        ">>> disp = PrecisionRecallDisplay(precision=precision, recall=recall)\n",
        ">>> disp.plot()"
      ]
    }
  ],
  "metadata": {
    "kernelspec": {
      "display_name": "Python 3 (ipykernel)",
      "language": "python",
      "name": "python3"
    },
    "language_info": {
      "codemirror_mode": {
        "name": "ipython",
        "version": 3
      },
      "file_extension": ".py",
      "mimetype": "text/x-python",
      "name": "python",
      "nbconvert_exporter": "python",
      "pygments_lexer": "ipython3",
      "version": "3.10.9"
    },
    "colab": {
      "provenance": [],
      "include_colab_link": true
    }
  },
  "nbformat": 4,
  "nbformat_minor": 5
}